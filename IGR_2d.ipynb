{
  "nbformat": 4,
  "nbformat_minor": 0,
  "metadata": {
    "colab": {
      "name": "IGR_2d.ipynb",
      "provenance": [],
      "collapsed_sections": [],
      "mount_file_id": "1n0GVPFoSSjZBHdcTEfnu3bfHkH7sX-mw",
      "authorship_tag": "ABX9TyOlfyNkELF5a6YvY0Keg9Q3",
      "include_colab_link": true
    },
    "kernelspec": {
      "name": "python3",
      "display_name": "Python 3"
    },
    "accelerator": "GPU"
  },
  "cells": [
    {
      "cell_type": "markdown",
      "metadata": {
        "id": "view-in-github",
        "colab_type": "text"
      },
      "source": [
        "<a href=\"https://colab.research.google.com/github/tranbaquang1708/GraduationThesis/blob/irg_prototype/IGR_2d.ipynb\" target=\"_parent\"><img src=\"https://colab.research.google.com/assets/colab-badge.svg\" alt=\"Open In Colab\"/></a>"
      ]
    },
    {
      "cell_type": "code",
      "metadata": {
        "id": "TuZ3HxJ5aJIG",
        "colab_type": "code",
        "colab": {}
      },
      "source": [
        "import sys\n",
        "import os\n",
        "mp = os.path.abspath(os.path.join('/content/drive/My Drive/GraduationThesis/gitrepo/GraduationThesis/'))\n",
        "sys.path.append(mp)"
      ],
      "execution_count": 1,
      "outputs": []
    },
    {
      "cell_type": "code",
      "metadata": {
        "id": "WT4WVYFRXfAi",
        "colab_type": "code",
        "colab": {}
      },
      "source": [
        "import torch\n",
        "from modules import Rbf, IGR"
      ],
      "execution_count": 2,
      "outputs": []
    },
    {
      "cell_type": "code",
      "metadata": {
        "id": "gienXHdXqYvk",
        "colab_type": "code",
        "colab": {}
      },
      "source": [
        "device = torch.device('cuda' if torch.cuda.is_available() else 'cpu')"
      ],
      "execution_count": 3,
      "outputs": []
    },
    {
      "cell_type": "code",
      "metadata": {
        "id": "ZMvPHi-oaN_x",
        "colab_type": "code",
        "colab": {}
      },
      "source": [
        "# Off surface points\n",
        "filename = mp + '/dataset/2d/riderr.vert'\n",
        "dataset, normal_vectors = IGR.read_txt2(filename, device)\n",
        "# dataset, mormal_vectors = dataset.to(device), normal_vectors.to(device)\n",
        "# dataset = dataset.to(device)\n",
        "# dataset.requires_grad = True\n",
        "# print(dataset)\n",
        "# print(normal_vectors)"
      ],
      "execution_count": 4,
      "outputs": []
    },
    {
      "cell_type": "code",
      "metadata": {
        "id": "2hXWCNfcxvx4",
        "colab_type": "code",
        "colab": {
          "base_uri": "https://localhost:8080/",
          "height": 369
        },
        "outputId": "5d578bf4-bee1-448e-c0f5-6d3152804e8a"
      },
      "source": [
        "network = IGR.train(dataset, normal_vectors, 5000, device)"
      ],
      "execution_count": 5,
      "outputs": [
        {
          "output_type": "stream",
          "text": [
            "Step 500:\n",
            "tensor(1.0118, device='cuda:0', grad_fn=<MeanBackward0>)\n",
            "Step 1000:\n",
            "tensor(1.1204, device='cuda:0', grad_fn=<MeanBackward0>)\n",
            "Step 1500:\n",
            "tensor(1.0344, device='cuda:0', grad_fn=<MeanBackward0>)\n",
            "Step 2000:\n",
            "tensor(1.2205, device='cuda:0', grad_fn=<MeanBackward0>)\n",
            "Step 2500:\n",
            "tensor(1.2300, device='cuda:0', grad_fn=<MeanBackward0>)\n",
            "Step 3000:\n",
            "tensor(1.2370, device='cuda:0', grad_fn=<MeanBackward0>)\n",
            "Step 3500:\n",
            "tensor(1.2029, device='cuda:0', grad_fn=<MeanBackward0>)\n",
            "Step 4000:\n",
            "tensor(1.1824, device='cuda:0', grad_fn=<MeanBackward0>)\n",
            "Step 4500:\n",
            "tensor(1.1695, device='cuda:0', grad_fn=<MeanBackward0>)\n",
            "Step 5000:\n",
            "tensor(1.1600, device='cuda:0', grad_fn=<MeanBackward0>)\n"
          ],
          "name": "stdout"
        }
      ]
    },
    {
      "cell_type": "code",
      "metadata": {
        "id": "7ih9PLvRGWOR",
        "colab_type": "code",
        "colab": {}
      },
      "source": [
        "xx, yy = IGR.grid(dataset[:,0], dataset[:,1], device)"
      ],
      "execution_count": 6,
      "outputs": []
    },
    {
      "cell_type": "code",
      "metadata": {
        "id": "dhqrdTyc64nx",
        "colab_type": "code",
        "colab": {
          "base_uri": "https://localhost:8080/",
          "height": 246
        },
        "outputId": "3b056568-dc09-4ec5-853e-855855785133"
      },
      "source": [
        "# xx,yy = Rbf.grid(dataset[:,0].numpy(), dataset[:,1].numpy())\n",
        "# z = sampling(result.detach().numpy(), xx ,yy)\n",
        "# z = sampling(dataset.numpy(), result.detach().numpy(), xx, yy)\n",
        "z = IGR.sampling(network, xx, yy)"
      ],
      "execution_count": 7,
      "outputs": [
        {
          "output_type": "stream",
          "text": [
            "tensor([[ 1.2051e-05,  1.7952e-05,  2.3928e-05,  ..., -3.0618e-05,\n",
            "         -3.3129e-05, -3.5349e-05],\n",
            "        [ 2.2996e-05,  3.0201e-05,  3.7443e-05,  ..., -2.8346e-05,\n",
            "         -3.1192e-05, -3.3695e-05],\n",
            "        [ 3.5372e-05,  4.4089e-05,  5.3156e-05,  ..., -2.5842e-05,\n",
            "         -2.9061e-05, -3.1885e-05],\n",
            "        ...,\n",
            "        [ 6.2119e-05,  7.1947e-05,  8.1781e-05,  ..., -2.0448e-05,\n",
            "         -2.4196e-05, -2.7608e-05],\n",
            "        [ 4.6771e-05,  5.4765e-05,  6.2879e-05,  ..., -2.3197e-05,\n",
            "         -2.6394e-05, -2.9396e-05],\n",
            "        [ 3.3099e-05,  3.9604e-05,  4.6339e-05,  ..., -2.5723e-05,\n",
            "         -2.8644e-05, -3.1170e-05]], device='cuda:0', grad_fn=<ViewBackward>)\n"
          ],
          "name": "stdout"
        }
      ]
    },
    {
      "cell_type": "code",
      "metadata": {
        "id": "I-JqpEFj9pd2",
        "colab_type": "code",
        "colab": {
          "base_uri": "https://localhost:8080/",
          "height": 762
        },
        "outputId": "17b95178-6454-448f-f85f-d73663151ae0"
      },
      "source": [
        "Rbf.visualize2(dataset.detach().cpu().numpy(), normal_vectors.detach().cpu().numpy(), xx.detach().cpu().numpy(), yy.detach().cpu().numpy(), z.detach().cpu().numpy(), scatter=True, vecfield=False, surface=True, offsurface=False, filled_contour=True)"
      ],
      "execution_count": 8,
      "outputs": [
        {
          "output_type": "display_data",
          "data": {
            "image/png": "[encoded data removed]",
            "text/plain": [
              "<Figure size 432x288 with 1 Axes>"
            ]
          },
          "metadata": {
            "tags": [],
            "needs_background": "light"
          }
        },
        {
          "output_type": "display_data",
          "data": {
            "image/png": "[encoded data removed]",
            "text/plain": [
              "<Figure size 432x288 with 1 Axes>"
            ]
          },
          "metadata": {
            "tags": [],
            "needs_background": "light"
          }
        },
        {
          "output_type": "display_data",
          "data": {
            "image/png": "[encoded data removed]",
            "text/plain": [
              "<Figure size 432x288 with 1 Axes>"
            ]
          },
          "metadata": {
            "tags": [],
            "needs_background": "light"
          }
        }
      ]
    },
    {
      "cell_type": "code",
      "metadata": {
        "id": "xiliLjt8UW_A",
        "colab_type": "code",
        "colab": {}
      },
      "source": [
        "# x = torch.tensor([[5, 3], [2, 1], [3,2]], dtype=torch.float)\n",
        "# y = torch.tensor([[1,1], [1,2], [3,2]], dtype=torch.float)\n",
        "\n",
        "# x = x.numpy()\n",
        "# y = y.numpy()\n",
        "\n",
        "# t = np.concatenate((x,y), axis = 1)\n",
        "\n",
        "# # t = torch.matmul(torch.transpose(x, 0, 1),y)\n",
        "# # t = torch.matmul(x[:, :], y[:,:)])\n",
        "# # t = x * y [:, None]\n",
        "# # t = torch.cat((x,y), dim=1)\n",
        "# # t = t.numpy()\n",
        "# # t = np.sum(t, axis=1)\n",
        "# # t = np.sum(t, axis=1)\n",
        "\n",
        "# print(t)"
      ],
      "execution_count": 9,
      "outputs": []
    },
    {
      "cell_type": "code",
      "metadata": {
        "id": "_pQWfn1W5pld",
        "colab_type": "code",
        "colab": {}
      },
      "source": [
        "# x = torch.tensor([[5, 3], [0, 1], [3,2]], dtype=torch.float)\n",
        "# y = torch.tensor([[1,1], [1,2], [2,3]], dtype=torch.float)\n",
        "# w = torch.tensor([[5], [2], [1]], dtype=torch.float)\n",
        "\n",
        "# t = torch.cat((x,y), axis = 0)\n",
        "\n",
        "# n = torch.norm(t, dim=1)\n",
        "# # n = torch.reshape(n, (n.shape[0],1))\n",
        "\n",
        "# n = F.normalize(t)\n",
        "\n",
        "# # # t = torch.matmul(torch.transpose(x, 0, 1),y)\n",
        "# # # t = torch.matmul(x[:, :], y[:,:)])\n",
        "# # t = x - y [:, None]\n",
        "# # # t = torch.cat((x,y), dim=1)\n",
        "# # # t = t.numpy()\n",
        "# # t = torch.sum(t, dim=2)\n",
        "# # # t = w*t\n",
        "# # # t = torch.sum(t, dim=0)\n",
        "\n",
        "# print(t)\n",
        "# print(n)\n",
        "# # print(normal_vectors)"
      ],
      "execution_count": 10,
      "outputs": []
    },
    {
      "cell_type": "code",
      "metadata": {
        "id": "NpbdRa4zJ4G6",
        "colab_type": "code",
        "colab": {}
      },
      "source": [
        "# x = torch.tensor([[5], [2], [1], [3],[2]], dtype=torch.float)\n",
        "# y = torch.tensor([1, 2, 3, 4], dtype=torch.float)\n",
        "\n",
        "# # t = x[None, :] * y[:, None]\n",
        "# t = x * y\n",
        "# t = torch.sum(t, dim=0)\n",
        "# print(t)"
      ],
      "execution_count": 11,
      "outputs": []
    }
  ]
}