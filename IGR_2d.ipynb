{
  "nbformat": 4,
  "nbformat_minor": 0,
  "metadata": {
    "colab": {
      "name": "IGR_2d.ipynb",
      "provenance": [],
      "collapsed_sections": [],
      "mount_file_id": "1n0GVPFoSSjZBHdcTEfnu3bfHkH7sX-mw",
      "authorship_tag": "ABX9TyONW2d0TbVp25u3pC20He/E",
      "include_colab_link": true
    },
    "kernelspec": {
      "name": "python3",
      "display_name": "Python 3"
    },
    "accelerator": "GPU"
  },
  "cells": [
    {
      "cell_type": "markdown",
      "metadata": {
        "id": "view-in-github",
        "colab_type": "text"
      },
      "source": [
        "<a href=\"https://colab.research.google.com/github/tranbaquang1708/GraduationThesis/blob/develop/IGR_2d.ipynb\" target=\"_parent\"><img src=\"https://colab.research.google.com/assets/colab-badge.svg\" alt=\"Open In Colab\"/></a>"
      ]
    },
    {
      "cell_type": "code",
      "metadata": {
        "id": "TuZ3HxJ5aJIG",
        "colab_type": "code",
        "colab": {}
      },
      "source": [
        "import sys\n",
        "import os\n",
        "mp = os.path.abspath(os.path.join('/content/drive/My Drive/GraduationThesis/gitrepo/GraduationThesis/'))\n",
        "sys.path.append(mp)"
      ],
      "execution_count": 1,
      "outputs": []
    },
    {
      "cell_type": "code",
      "metadata": {
        "id": "WT4WVYFRXfAi",
        "colab_type": "code",
        "colab": {}
      },
      "source": [
        "import torch\n",
        "from modules import IGR, Visualization, Operation"
      ],
      "execution_count": 2,
      "outputs": []
    },
    {
      "cell_type": "code",
      "metadata": {
        "id": "gienXHdXqYvk",
        "colab_type": "code",
        "colab": {}
      },
      "source": [
        "device = torch.device('cuda' if torch.cuda.is_available() else 'cpu')"
      ],
      "execution_count": 3,
      "outputs": []
    },
    {
      "cell_type": "code",
      "metadata": {
        "id": "ZMvPHi-oaN_x",
        "colab_type": "code",
        "colab": {}
      },
      "source": [
        "# Off surface points\n",
        "filename = mp + '/dataset/2d/superior.vert'\n",
        "dataset, normal_vectors = Operation.read_txt2(filename, device)"
      ],
      "execution_count": 4,
      "outputs": []
    },
    {
      "cell_type": "code",
      "metadata": {
        "id": "d9zTIMvUye69",
        "colab_type": "code",
        "colab": {}
      },
      "source": [
        "traineddata_path = mp + '/models/superior_noconstrain.traineddata'\n",
        "model = IGR.load_model(traineddata_path, device)"
      ],
      "execution_count": 5,
      "outputs": []
    },
    {
      "cell_type": "code",
      "metadata": {
        "id": "2hXWCNfcxvx4",
        "colab_type": "code",
        "colab": {
          "base_uri": "https://localhost:8080/",
          "height": 1000
        },
        "outputId": "e86a8323-9f0d-4b28-ec17-4a48cf2ef6ef"
      },
      "source": [
        "loss_function = IGR.LossFunction()\n",
        "model = IGR.train(dataset, normal_vectors, 30000, 200, device, loss_function, model=model)"
      ],
      "execution_count": 6,
      "outputs": [
        {
          "output_type": "stream",
          "text": [
            "Step 500:\n",
            "tensor(1.0006, device='cuda:0', grad_fn=<AddBackward0>)\n",
            "Step 1000:\n",
            "tensor(1.0018, device='cuda:0', grad_fn=<AddBackward0>)\n",
            "Step 1500:\n",
            "tensor(1.0003, device='cuda:0', grad_fn=<AddBackward0>)\n",
            "Step 2000:\n",
            "tensor(1.0022, device='cuda:0', grad_fn=<AddBackward0>)\n",
            "Step 2500:\n",
            "tensor(0.9970, device='cuda:0', grad_fn=<AddBackward0>)\n",
            "Step 3000:\n",
            "tensor(0.9686, device='cuda:0', grad_fn=<AddBackward0>)\n",
            "Step 3500:\n",
            "tensor(0.8551, device='cuda:0', grad_fn=<AddBackward0>)\n",
            "Step 4000:\n",
            "tensor(0.8664, device='cuda:0', grad_fn=<AddBackward0>)\n",
            "Step 4500:\n",
            "tensor(0.8295, device='cuda:0', grad_fn=<AddBackward0>)\n",
            "Step 5000:\n",
            "tensor(0.8270, device='cuda:0', grad_fn=<AddBackward0>)\n",
            "Step 5500:\n",
            "tensor(0.7868, device='cuda:0', grad_fn=<AddBackward0>)\n",
            "Step 6000:\n",
            "tensor(0.7643, device='cuda:0', grad_fn=<AddBackward0>)\n",
            "Step 6500:\n",
            "tensor(0.7247, device='cuda:0', grad_fn=<AddBackward0>)\n",
            "Step 7000:\n",
            "tensor(0.7273, device='cuda:0', grad_fn=<AddBackward0>)\n",
            "Step 7500:\n",
            "tensor(0.7851, device='cuda:0', grad_fn=<AddBackward0>)\n",
            "Step 8000:\n",
            "tensor(0.7910, device='cuda:0', grad_fn=<AddBackward0>)\n",
            "Step 8500:\n",
            "tensor(0.7643, device='cuda:0', grad_fn=<AddBackward0>)\n",
            "Step 9000:\n",
            "tensor(0.7002, device='cuda:0', grad_fn=<AddBackward0>)\n",
            "Step 9500:\n",
            "tensor(0.7113, device='cuda:0', grad_fn=<AddBackward0>)\n",
            "Step 10000:\n",
            "tensor(0.7069, device='cuda:0', grad_fn=<AddBackward0>)\n",
            "Step 10500:\n",
            "tensor(0.7041, device='cuda:0', grad_fn=<AddBackward0>)\n",
            "Step 11000:\n",
            "tensor(0.6700, device='cuda:0', grad_fn=<AddBackward0>)\n",
            "Step 11500:\n",
            "tensor(0.6980, device='cuda:0', grad_fn=<AddBackward0>)\n",
            "Step 12000:\n",
            "tensor(0.7005, device='cuda:0', grad_fn=<AddBackward0>)\n",
            "Step 12500:\n",
            "tensor(0.6931, device='cuda:0', grad_fn=<AddBackward0>)\n",
            "Step 13000:\n",
            "tensor(0.6200, device='cuda:0', grad_fn=<AddBackward0>)\n",
            "Step 13500:\n",
            "tensor(0.6032, device='cuda:0', grad_fn=<AddBackward0>)\n",
            "Step 14000:\n",
            "tensor(0.6150, device='cuda:0', grad_fn=<AddBackward0>)\n",
            "Step 14500:\n",
            "tensor(0.6022, device='cuda:0', grad_fn=<AddBackward0>)\n",
            "Step 15000:\n",
            "tensor(0.5939, device='cuda:0', grad_fn=<AddBackward0>)\n",
            "Step 15500:\n",
            "tensor(0.5259, device='cuda:0', grad_fn=<AddBackward0>)\n",
            "Step 16000:\n",
            "tensor(0.5043, device='cuda:0', grad_fn=<AddBackward0>)\n",
            "Step 16500:\n",
            "tensor(0.5268, device='cuda:0', grad_fn=<AddBackward0>)\n",
            "Step 17000:\n",
            "tensor(0.4858, device='cuda:0', grad_fn=<AddBackward0>)\n",
            "Step 17500:\n",
            "tensor(0.4802, device='cuda:0', grad_fn=<AddBackward0>)\n",
            "Step 18000:\n",
            "tensor(0.4672, device='cuda:0', grad_fn=<AddBackward0>)\n",
            "Step 18500:\n",
            "tensor(0.4754, device='cuda:0', grad_fn=<AddBackward0>)\n",
            "Step 19000:\n",
            "tensor(0.4678, device='cuda:0', grad_fn=<AddBackward0>)\n",
            "Step 19500:\n",
            "tensor(0.4104, device='cuda:0', grad_fn=<AddBackward0>)\n",
            "Step 20000:\n",
            "tensor(0.4218, device='cuda:0', grad_fn=<AddBackward0>)\n",
            "Step 20500:\n",
            "tensor(0.4646, device='cuda:0', grad_fn=<AddBackward0>)\n",
            "Step 21000:\n",
            "tensor(0.3942, device='cuda:0', grad_fn=<AddBackward0>)\n",
            "Step 21500:\n",
            "tensor(0.4250, device='cuda:0', grad_fn=<AddBackward0>)\n",
            "Step 22000:\n",
            "tensor(0.4127, device='cuda:0', grad_fn=<AddBackward0>)\n",
            "Step 22500:\n",
            "tensor(0.3881, device='cuda:0', grad_fn=<AddBackward0>)\n",
            "Step 23000:\n",
            "tensor(0.3727, device='cuda:0', grad_fn=<AddBackward0>)\n",
            "Step 23500:\n",
            "tensor(0.3942, device='cuda:0', grad_fn=<AddBackward0>)\n",
            "Step 24000:\n",
            "tensor(0.3414, device='cuda:0', grad_fn=<AddBackward0>)\n",
            "Step 24500:\n",
            "tensor(0.3780, device='cuda:0', grad_fn=<AddBackward0>)\n",
            "Step 25000:\n",
            "tensor(0.3572, device='cuda:0', grad_fn=<AddBackward0>)\n",
            "Step 25500:\n",
            "tensor(0.3748, device='cuda:0', grad_fn=<AddBackward0>)\n",
            "Step 26000:\n",
            "tensor(0.3522, device='cuda:0', grad_fn=<AddBackward0>)\n",
            "Step 26500:\n",
            "tensor(0.4150, device='cuda:0', grad_fn=<AddBackward0>)\n",
            "Step 27000:\n",
            "tensor(0.3450, device='cuda:0', grad_fn=<AddBackward0>)\n",
            "Step 27500:\n",
            "tensor(0.3658, device='cuda:0', grad_fn=<AddBackward0>)\n",
            "Step 28000:\n",
            "tensor(0.3695, device='cuda:0', grad_fn=<AddBackward0>)\n",
            "Step 28500:\n",
            "tensor(0.3907, device='cuda:0', grad_fn=<AddBackward0>)\n",
            "Step 29000:\n",
            "tensor(0.3536, device='cuda:0', grad_fn=<AddBackward0>)\n",
            "Step 29500:\n",
            "tensor(0.3838, device='cuda:0', grad_fn=<AddBackward0>)\n",
            "Step 30000:\n",
            "tensor(0.3103, device='cuda:0', grad_fn=<AddBackward0>)\n"
          ],
          "name": "stdout"
        }
      ]
    },
    {
      "cell_type": "code",
      "metadata": {
        "id": "NJ5X3mWBt5lV",
        "colab_type": "code",
        "colab": {}
      },
      "source": [
        "IGR.save_model(traineddata_path, model)"
      ],
      "execution_count": 7,
      "outputs": []
    },
    {
      "cell_type": "code",
      "metadata": {
        "id": "7ih9PLvRGWOR",
        "colab_type": "code",
        "colab": {}
      },
      "source": [
        "xx, yy = Visualization.grid_from_torch(dataset[:,0], dataset[:,1], device)"
      ],
      "execution_count": 9,
      "outputs": []
    },
    {
      "cell_type": "code",
      "metadata": {
        "id": "dhqrdTyc64nx",
        "colab_type": "code",
        "colab": {
          "base_uri": "https://localhost:8080/",
          "height": 246
        },
        "outputId": "ef9e3136-e489-4abc-bb82-537b8b951e27"
      },
      "source": [
        "z = Visualization.nn_sampling(model, xx, yy)"
      ],
      "execution_count": 11,
      "outputs": [
        {
          "output_type": "stream",
          "text": [
            "tensor([[ 2.1918e-02, -3.2712e-03, -2.8090e-02,  ..., -4.4280e-02,\n",
            "         -2.2099e-02,  5.8218e-03],\n",
            "        [ 4.7317e-02,  2.3187e-02, -1.0163e-03,  ..., -2.6757e-02,\n",
            "         -4.8018e-03,  2.3972e-02],\n",
            "        [ 6.8731e-02,  4.6982e-02,  2.4353e-02,  ..., -1.3390e-02,\n",
            "          9.2960e-03,  3.9841e-02],\n",
            "        ...,\n",
            "        [-5.2502e-02, -2.9950e-02, -9.4680e-03,  ..., -2.2288e+00,\n",
            "         -2.2838e+00, -2.3323e+00],\n",
            "        [ 8.0307e-03,  2.7406e-02,  4.1523e-02,  ..., -2.3416e+00,\n",
            "         -2.4013e+00, -2.4542e+00],\n",
            "        [ 6.6043e-02,  7.5397e-02,  7.4869e-02,  ..., -2.4313e+00,\n",
            "         -2.5039e+00, -2.5645e+00]], device='cuda:0', grad_fn=<ViewBackward>)\n"
          ],
          "name": "stdout"
        }
      ]
    },
    {
      "cell_type": "code",
      "metadata": {
        "id": "I-JqpEFj9pd2",
        "colab_type": "code",
        "colab": {
          "base_uri": "https://localhost:8080/",
          "height": 765
        },
        "outputId": "5fb8bac9-8cec-49ef-b701-358dd79e3271"
      },
      "source": [
        "Visualization.visualize2(dataset.detach().cpu().numpy(), normal_vectors.detach().cpu().numpy(), xx.detach().cpu().numpy(), yy.detach().cpu().numpy(), z.detach().cpu().numpy(), scatter=True, vecfield=False, surface=True, offsurface=False, filled_contour=True)"
      ],
      "execution_count": 12,
      "outputs": [
        {
          "output_type": "display_data",
          "data": {
            "image/png": "[encoded data removed]",
            "text/plain": [
              "<Figure size 432x288 with 1 Axes>"
            ]
          },
          "metadata": {
            "tags": [],
            "needs_background": "light"
          }
        },
        {
          "output_type": "display_data",
          "data": {
            "image/png": "[encoded data removed]",
            "text/plain": [
              "<Figure size 432x288 with 1 Axes>"
            ]
          },
          "metadata": {
            "tags": [],
            "needs_background": "light"
          }
        },
        {
          "output_type": "display_data",
          "data": {
            "image/png": "[encoded data removed]",
            "text/plain": [
              "<Figure size 432x288 with 1 Axes>"
            ]
          },
          "metadata": {
            "tags": [],
            "needs_background": "light"
          }
        }
      ]
    }
  ]
}