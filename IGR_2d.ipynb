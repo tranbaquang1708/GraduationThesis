{
  "nbformat": 4,
  "nbformat_minor": 0,
  "metadata": {
    "colab": {
      "name": "IGR_2d.ipynb",
      "provenance": [],
      "collapsed_sections": [],
      "mount_file_id": "1n0GVPFoSSjZBHdcTEfnu3bfHkH7sX-mw",
      "authorship_tag": "ABX9TyO9O1yHdxFhvuy9hyZkZhG+"
    },
    "kernelspec": {
      "name": "python3",
      "display_name": "Python 3"
    },
    "accelerator": "GPU"
  },
  "cells": [
    {
      "cell_type": "code",
      "metadata": {
        "id": "TuZ3HxJ5aJIG",
        "colab_type": "code",
        "colab": {}
      },
      "source": [
        "import sys\n",
        "import os\n",
        "mp = os.path.abspath(os.path.join('/content/drive/My Drive/GraduationThesis/gitrepo/GraduationThesis/'))\n",
        "sys.path.append(mp)"
      ],
      "execution_count": 1,
      "outputs": []
    },
    {
      "cell_type": "code",
      "metadata": {
        "id": "WT4WVYFRXfAi",
        "colab_type": "code",
        "colab": {}
      },
      "source": [
        "import torch\n",
        "from modules import Rbf, IGR"
      ],
      "execution_count": 2,
      "outputs": []
    },
    {
      "cell_type": "code",
      "metadata": {
        "id": "gienXHdXqYvk",
        "colab_type": "code",
        "colab": {}
      },
      "source": [
        "device = torch.device('cuda' if torch.cuda.is_available() else 'cpu')"
      ],
      "execution_count": 3,
      "outputs": []
    },
    {
      "cell_type": "code",
      "metadata": {
        "id": "ZMvPHi-oaN_x",
        "colab_type": "code",
        "colab": {}
      },
      "source": [
        "# Off surface points\n",
        "filename = mp + '/dataset/2d/superior.vert'\n",
        "dataset, normal_vectors = IGR.read_txt2(filename, device)"
      ],
      "execution_count": 4,
      "outputs": []
    },
    {
      "cell_type": "code",
      "metadata": {
        "id": "d9zTIMvUye69",
        "colab_type": "code",
        "colab": {}
      },
      "source": [
        "traineddata_path = mp + '/models/IRG_2D.traineddata'\n",
        "model = IGR.load_model(traineddata_path, device)"
      ],
      "execution_count": 5,
      "outputs": []
    },
    {
      "cell_type": "code",
      "metadata": {
        "id": "2hXWCNfcxvx4",
        "colab_type": "code",
        "colab": {
          "base_uri": "https://localhost:8080/",
          "height": 369
        },
        "outputId": "7b1f349f-5b43-4266-fff3-b4f8afc37cf8"
      },
      "source": [
        "model = IGR.train(dataset, normal_vectors, 5000, device, model)"
      ],
      "execution_count": 6,
      "outputs": [
        {
          "output_type": "stream",
          "text": [
            "Step 500:\n",
            "tensor(0.4700, device='cuda:0', grad_fn=<AddBackward0>)\n",
            "Step 1000:\n",
            "tensor(0.4556, device='cuda:0', grad_fn=<AddBackward0>)\n",
            "Step 1500:\n",
            "tensor(0.4448, device='cuda:0', grad_fn=<AddBackward0>)\n",
            "Step 2000:\n",
            "tensor(0.4445, device='cuda:0', grad_fn=<AddBackward0>)\n",
            "Step 2500:\n",
            "tensor(0.4477, device='cuda:0', grad_fn=<AddBackward0>)\n",
            "Step 3000:\n",
            "tensor(0.4345, device='cuda:0', grad_fn=<AddBackward0>)\n",
            "Step 3500:\n",
            "tensor(0.4206, device='cuda:0', grad_fn=<AddBackward0>)\n",
            "Step 4000:\n",
            "tensor(0.4213, device='cuda:0', grad_fn=<AddBackward0>)\n",
            "Step 4500:\n",
            "tensor(0.4159, device='cuda:0', grad_fn=<AddBackward0>)\n",
            "Step 5000:\n",
            "tensor(0.4082, device='cuda:0', grad_fn=<AddBackward0>)\n"
          ],
          "name": "stdout"
        }
      ]
    },
    {
      "cell_type": "code",
      "metadata": {
        "id": "NJ5X3mWBt5lV",
        "colab_type": "code",
        "colab": {}
      },
      "source": [
        "IGR.save_model(traineddata_path, model)"
      ],
      "execution_count": 7,
      "outputs": []
    },
    {
      "cell_type": "code",
      "metadata": {
        "id": "7ih9PLvRGWOR",
        "colab_type": "code",
        "colab": {}
      },
      "source": [
        "xx, yy = IGR.grid(dataset[:,0], dataset[:,1], device)"
      ],
      "execution_count": 8,
      "outputs": []
    },
    {
      "cell_type": "code",
      "metadata": {
        "id": "dhqrdTyc64nx",
        "colab_type": "code",
        "colab": {
          "base_uri": "https://localhost:8080/",
          "height": 246
        },
        "outputId": "b79f1279-1549-409a-dc11-62c10760a93f"
      },
      "source": [
        "z = IGR.sampling(model, xx, yy)"
      ],
      "execution_count": 9,
      "outputs": [
        {
          "output_type": "stream",
          "text": [
            "tensor([[-4.0778e-01, -3.6458e-01, -3.1833e-01,  ..., -1.9230e+00,\n",
            "         -2.0217e+00, -2.1231e+00],\n",
            "        [-4.0400e-01, -3.6575e-01, -3.2417e-01,  ..., -1.8446e+00,\n",
            "         -1.9438e+00, -2.0457e+00],\n",
            "        [-3.9612e-01, -3.6029e-01, -3.2336e-01,  ..., -1.7677e+00,\n",
            "         -1.8672e+00, -1.9689e+00],\n",
            "        ...,\n",
            "        [-1.2110e-01, -9.3034e-02, -6.5054e-02,  ..., -7.6127e-01,\n",
            "         -8.2933e-01, -8.9818e-01],\n",
            "        [-7.8812e-02, -4.9810e-02, -2.4330e-02,  ..., -8.3841e-01,\n",
            "         -9.0565e-01, -9.7276e-01],\n",
            "        [-3.2269e-02, -1.0033e-02, -1.0673e-03,  ..., -9.2274e-01,\n",
            "         -9.9096e-01, -1.0577e+00]], device='cuda:0', grad_fn=<ViewBackward>)\n"
          ],
          "name": "stdout"
        }
      ]
    },
    {
      "cell_type": "code",
      "metadata": {
        "id": "I-JqpEFj9pd2",
        "colab_type": "code",
        "colab": {
          "base_uri": "https://localhost:8080/",
          "height": 765
        },
        "outputId": "ec83967a-4ec8-4ac8-f54f-1f42d3aab47b"
      },
      "source": [
        "Rbf.visualize2(dataset.detach().cpu().numpy(), normal_vectors.detach().cpu().numpy(), xx.detach().cpu().numpy(), yy.detach().cpu().numpy(), z.detach().cpu().numpy(), scatter=True, vecfield=False, surface=True, offsurface=False, filled_contour=True)"
      ],
      "execution_count": 10,
      "outputs": [
        {
          "output_type": "display_data",
          "data": {
            "image/png": "[encoded data removed]",
            "text/plain": [
              "<Figure size 432x288 with 1 Axes>"
            ]
          },
          "metadata": {
            "tags": [],
            "needs_background": "light"
          }
        },
        {
          "output_type": "display_data",
          "data": {
            "image/png": "[encoded data removed]",
            "text/plain": [
              "<Figure size 432x288 with 1 Axes>"
            ]
          },
          "metadata": {
            "tags": [],
            "needs_background": "light"
          }
        },
        {
          "output_type": "display_data",
          "data": {
            "image/png": "[encoded data removed]",
            "text/plain": [
              "<Figure size 432x288 with 1 Axes>"
            ]
          },
          "metadata": {
            "tags": [],
            "needs_background": "light"
          }
        }
      ]
    },
    {
      "cell_type": "code",
      "metadata": {
        "id": "xiliLjt8UW_A",
        "colab_type": "code",
        "colab": {}
      },
      "source": [
        "# x = torch.tensor([[5, 3], [2, 1], [3,2]], dtype=torch.float)\n",
        "# y = torch.tensor([[1,1], [1,2], [3,2]], dtype=torch.float)\n",
        "\n",
        "# x = x.numpy()\n",
        "# y = y.numpy()\n",
        "\n",
        "# t = np.concatenate((x,y), axis = 1)\n",
        "\n",
        "# # t = torch.matmul(torch.transpose(x, 0, 1),y)\n",
        "# # t = torch.matmul(x[:, :], y[:,:)])\n",
        "# # t = x * y [:, None]\n",
        "# # t = torch.cat((x,y), dim=1)\n",
        "# # t = t.numpy()\n",
        "# # t = np.sum(t, axis=1)\n",
        "# # t = np.sum(t, axis=1)\n",
        "\n",
        "# print(t)"
      ],
      "execution_count": 11,
      "outputs": []
    },
    {
      "cell_type": "code",
      "metadata": {
        "id": "_pQWfn1W5pld",
        "colab_type": "code",
        "colab": {}
      },
      "source": [
        "# x = torch.tensor([[5, 3], [0, 1], [3,2]], dtype=torch.float)\n",
        "# y = torch.tensor([[1,1], [1,2], [2,3]], dtype=torch.float)\n",
        "# w = torch.tensor([[5], [2], [1]], dtype=torch.float)\n",
        "\n",
        "# t = torch.cat((x,y), axis = 0)\n",
        "\n",
        "# n = torch.norm(t, dim=1)\n",
        "# # n = torch.reshape(n, (n.shape[0],1))\n",
        "\n",
        "# n = F.normalize(t)\n",
        "\n",
        "# # # t = torch.matmul(torch.transpose(x, 0, 1),y)\n",
        "# # # t = torch.matmul(x[:, :], y[:,:)])\n",
        "# # t = x - y [:, None]\n",
        "# # # t = torch.cat((x,y), dim=1)\n",
        "# # # t = t.numpy()\n",
        "# # t = torch.sum(t, dim=2)\n",
        "# # # t = w*t\n",
        "# # # t = torch.sum(t, dim=0)\n",
        "\n",
        "# print(t)\n",
        "# print(n)\n",
        "# # print(normal_vectors)"
      ],
      "execution_count": 12,
      "outputs": []
    },
    {
      "cell_type": "code",
      "metadata": {
        "id": "NpbdRa4zJ4G6",
        "colab_type": "code",
        "colab": {}
      },
      "source": [
        "# x = torch.tensor([[5], [2], [1], [3],[2]], dtype=torch.float)\n",
        "# y = torch.tensor([1, 2, 3, 4], dtype=torch.float)\n",
        "\n",
        "# # t = x[None, :] * y[:, None]\n",
        "# t = x * y\n",
        "# t = torch.sum(t, dim=0)\n",
        "# print(t)"
      ],
      "execution_count": 13,
      "outputs": []
    }
  ]
}