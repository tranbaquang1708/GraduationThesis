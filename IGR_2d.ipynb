{
  "nbformat": 4,
  "nbformat_minor": 0,
  "metadata": {
    "colab": {
      "name": "IGR_2d.ipynb",
      "provenance": [],
      "collapsed_sections": [],
      "mount_file_id": "1n0GVPFoSSjZBHdcTEfnu3bfHkH7sX-mw",
      "authorship_tag": "ABX9TyPTZrCtxA9FW6e35IEazlB3",
      "include_colab_link": true
    },
    "kernelspec": {
      "name": "python3",
      "display_name": "Python 3"
    },
    "accelerator": "GPU"
  },
  "cells": [
    {
      "cell_type": "markdown",
      "metadata": {
        "id": "view-in-github",
        "colab_type": "text"
      },
      "source": [
        "<a href=\"https://colab.research.google.com/github/tranbaquang1708/GraduationThesis/blob/develop/IGR_2d.ipynb\" target=\"_parent\"><img src=\"https://colab.research.google.com/assets/colab-badge.svg\" alt=\"Open In Colab\"/></a>"
      ]
    },
    {
      "cell_type": "code",
      "metadata": {
        "id": "TuZ3HxJ5aJIG"
      },
      "source": [
        "import sys\n",
        "import os\n",
        "mp = os.path.abspath(os.path.join('/content/drive/My Drive/GraduationThesis/gitrepo/GraduationThesis/'))\n",
        "sys.path.append(mp)"
      ],
      "execution_count": null,
      "outputs": []
    },
    {
      "cell_type": "code",
      "metadata": {
        "id": "WT4WVYFRXfAi"
      },
      "source": [
        "import torch\n",
        "from modules import IGR, Visualization, Operation, Distribution"
      ],
      "execution_count": null,
      "outputs": []
    },
    {
      "cell_type": "code",
      "metadata": {
        "id": "gienXHdXqYvk"
      },
      "source": [
        "device = torch.device('cuda' if torch.cuda.is_available() else 'cpu')"
      ],
      "execution_count": null,
      "outputs": []
    },
    {
      "cell_type": "code",
      "metadata": {
        "id": "ZMvPHi-oaN_x"
      },
      "source": [
        "# Load points\n",
        "filename = mp + '/dataset/2d/riderr.vert'\n",
        "dataset, normal_vectors = Operation.read_txt_omit2(filename, 0.8, device)"
      ],
      "execution_count": null,
      "outputs": []
    },
    {
      "cell_type": "code",
      "metadata": {
        "id": "d9zTIMvUye69"
      },
      "source": [
        "traineddata_path = mp + '/models/riderr_omit_0.2_uniform_gaussian.traineddata'\n",
        "model = IGR.load_model(traineddata_path, device)"
      ],
      "execution_count": null,
      "outputs": []
    },
    {
      "cell_type": "code",
      "metadata": {
        "id": "2hXWCNfcxvx4",
        "outputId": "8627dcaa-cb8f-4b47-dc9d-6b7a922a9e9f",
        "colab": {
          "base_uri": "https://localhost:8080/",
          "height": 1000
        }
      },
      "source": [
        "loss_function = IGR.LossFunction(1, 0.01, Distribution.uniform_gaussian)\n",
        "# loss_function = IGR.LossFunction()\n",
        "model = IGR.train(dataset, normal_vectors, 80000, 50, device, loss_function, model=model)"
      ],
      "execution_count": null,
      "outputs": [
        {
          "output_type": "stream",
          "text": [
            "Step 500:\n",
            "tensor(1.0118, device='cuda:0', grad_fn=<AddBackward0>)\n",
            "Step 1000:\n",
            "tensor(0.6987, device='cuda:0', grad_fn=<AddBackward0>)\n",
            "Step 1500:\n",
            "tensor(0.5163, device='cuda:0', grad_fn=<AddBackward0>)\n",
            "Step 2000:\n",
            "tensor(0.3674, device='cuda:0', grad_fn=<AddBackward0>)\n",
            "Step 2500:\n",
            "tensor(0.2993, device='cuda:0', grad_fn=<AddBackward0>)\n",
            "Step 3000:\n",
            "tensor(0.2721, device='cuda:0', grad_fn=<AddBackward0>)\n",
            "Step 3500:\n",
            "tensor(0.1977, device='cuda:0', grad_fn=<AddBackward0>)\n",
            "Step 4000:\n",
            "tensor(0.1665, device='cuda:0', grad_fn=<AddBackward0>)\n",
            "Step 4500:\n",
            "tensor(0.1402, device='cuda:0', grad_fn=<AddBackward0>)\n",
            "Step 5000:\n",
            "tensor(0.1980, device='cuda:0', grad_fn=<AddBackward0>)\n",
            "Step 5500:\n",
            "tensor(0.1443, device='cuda:0', grad_fn=<AddBackward0>)\n",
            "Step 6000:\n",
            "tensor(0.1882, device='cuda:0', grad_fn=<AddBackward0>)\n",
            "Step 6500:\n",
            "tensor(0.1374, device='cuda:0', grad_fn=<AddBackward0>)\n",
            "Step 7000:\n",
            "tensor(0.1191, device='cuda:0', grad_fn=<AddBackward0>)\n",
            "Step 7500:\n",
            "tensor(0.0911, device='cuda:0', grad_fn=<AddBackward0>)\n",
            "Step 8000:\n",
            "tensor(0.0767, device='cuda:0', grad_fn=<AddBackward0>)\n",
            "Step 8500:\n",
            "tensor(0.0543, device='cuda:0', grad_fn=<AddBackward0>)\n",
            "Step 9000:\n",
            "tensor(0.0563, device='cuda:0', grad_fn=<AddBackward0>)\n",
            "Step 9500:\n",
            "tensor(0.0526, device='cuda:0', grad_fn=<AddBackward0>)\n",
            "Step 10000:\n",
            "tensor(0.0617, device='cuda:0', grad_fn=<AddBackward0>)\n",
            "Step 10500:\n",
            "tensor(0.0554, device='cuda:0', grad_fn=<AddBackward0>)\n",
            "Step 11000:\n",
            "tensor(0.0634, device='cuda:0', grad_fn=<AddBackward0>)\n",
            "Step 11500:\n",
            "tensor(0.0736, device='cuda:0', grad_fn=<AddBackward0>)\n",
            "Step 12000:\n",
            "tensor(0.0444, device='cuda:0', grad_fn=<AddBackward0>)\n",
            "Step 12500:\n",
            "tensor(0.0553, device='cuda:0', grad_fn=<AddBackward0>)\n",
            "Step 13000:\n",
            "tensor(0.0562, device='cuda:0', grad_fn=<AddBackward0>)\n",
            "Step 13500:\n",
            "tensor(0.0354, device='cuda:0', grad_fn=<AddBackward0>)\n",
            "Step 14000:\n",
            "tensor(0.0723, device='cuda:0', grad_fn=<AddBackward0>)\n",
            "Step 14500:\n",
            "tensor(0.0640, device='cuda:0', grad_fn=<AddBackward0>)\n",
            "Step 15000:\n",
            "tensor(0.0313, device='cuda:0', grad_fn=<AddBackward0>)\n",
            "Step 15500:\n",
            "tensor(0.0429, device='cuda:0', grad_fn=<AddBackward0>)\n",
            "Step 16000:\n",
            "tensor(0.0402, device='cuda:0', grad_fn=<AddBackward0>)\n",
            "Step 16500:\n",
            "tensor(0.0455, device='cuda:0', grad_fn=<AddBackward0>)\n",
            "Step 17000:\n",
            "tensor(0.0383, device='cuda:0', grad_fn=<AddBackward0>)\n",
            "Step 17500:\n",
            "tensor(0.0389, device='cuda:0', grad_fn=<AddBackward0>)\n",
            "Step 18000:\n",
            "tensor(0.0328, device='cuda:0', grad_fn=<AddBackward0>)\n",
            "Step 18500:\n",
            "tensor(0.0344, device='cuda:0', grad_fn=<AddBackward0>)\n",
            "Step 19000:\n",
            "tensor(0.0277, device='cuda:0', grad_fn=<AddBackward0>)\n",
            "Step 19500:\n",
            "tensor(0.0257, device='cuda:0', grad_fn=<AddBackward0>)\n",
            "Step 20000:\n",
            "tensor(0.0322, device='cuda:0', grad_fn=<AddBackward0>)\n",
            "Step 20500:\n",
            "tensor(0.0260, device='cuda:0', grad_fn=<AddBackward0>)\n",
            "Step 21000:\n",
            "tensor(0.0273, device='cuda:0', grad_fn=<AddBackward0>)\n",
            "Step 21500:\n",
            "tensor(0.0325, device='cuda:0', grad_fn=<AddBackward0>)\n",
            "Step 22000:\n",
            "tensor(0.0417, device='cuda:0', grad_fn=<AddBackward0>)\n",
            "Step 22500:\n",
            "tensor(0.0292, device='cuda:0', grad_fn=<AddBackward0>)\n",
            "Step 23000:\n",
            "tensor(0.0231, device='cuda:0', grad_fn=<AddBackward0>)\n",
            "Step 23500:\n",
            "tensor(0.0267, device='cuda:0', grad_fn=<AddBackward0>)\n",
            "Step 24000:\n",
            "tensor(0.0289, device='cuda:0', grad_fn=<AddBackward0>)\n",
            "Step 24500:\n",
            "tensor(0.0259, device='cuda:0', grad_fn=<AddBackward0>)\n",
            "Step 25000:\n",
            "tensor(0.1238, device='cuda:0', grad_fn=<AddBackward0>)\n",
            "Step 25500:\n",
            "tensor(0.0280, device='cuda:0', grad_fn=<AddBackward0>)\n",
            "Step 26000:\n",
            "tensor(0.0230, device='cuda:0', grad_fn=<AddBackward0>)\n",
            "Step 26500:\n",
            "tensor(0.0307, device='cuda:0', grad_fn=<AddBackward0>)\n",
            "Step 27000:\n",
            "tensor(0.0237, device='cuda:0', grad_fn=<AddBackward0>)\n",
            "Step 27500:\n",
            "tensor(0.0301, device='cuda:0', grad_fn=<AddBackward0>)\n",
            "Step 28000:\n",
            "tensor(0.0175, device='cuda:0', grad_fn=<AddBackward0>)\n",
            "Step 28500:\n",
            "tensor(0.0195, device='cuda:0', grad_fn=<AddBackward0>)\n",
            "Step 29000:\n",
            "tensor(0.0228, device='cuda:0', grad_fn=<AddBackward0>)\n",
            "Step 29500:\n",
            "tensor(0.0235, device='cuda:0', grad_fn=<AddBackward0>)\n",
            "Step 30000:\n",
            "tensor(0.0181, device='cuda:0', grad_fn=<AddBackward0>)\n",
            "Step 30500:\n",
            "tensor(0.0224, device='cuda:0', grad_fn=<AddBackward0>)\n",
            "Step 31000:\n",
            "tensor(0.0208, device='cuda:0', grad_fn=<AddBackward0>)\n",
            "Step 31500:\n",
            "tensor(0.0228, device='cuda:0', grad_fn=<AddBackward0>)\n",
            "Step 32000:\n",
            "tensor(0.0195, device='cuda:0', grad_fn=<AddBackward0>)\n",
            "Step 32500:\n",
            "tensor(0.0209, device='cuda:0', grad_fn=<AddBackward0>)\n",
            "Step 33000:\n",
            "tensor(0.0277, device='cuda:0', grad_fn=<AddBackward0>)\n",
            "Step 33500:\n",
            "tensor(0.0203, device='cuda:0', grad_fn=<AddBackward0>)\n",
            "Step 34000:\n",
            "tensor(0.0211, device='cuda:0', grad_fn=<AddBackward0>)\n",
            "Step 34500:\n",
            "tensor(0.0182, device='cuda:0', grad_fn=<AddBackward0>)\n",
            "Step 35000:\n",
            "tensor(0.0185, device='cuda:0', grad_fn=<AddBackward0>)\n",
            "Step 35500:\n",
            "tensor(0.0201, device='cuda:0', grad_fn=<AddBackward0>)\n",
            "Step 36000:\n",
            "tensor(0.0228, device='cuda:0', grad_fn=<AddBackward0>)\n",
            "Step 36500:\n",
            "tensor(0.0189, device='cuda:0', grad_fn=<AddBackward0>)\n",
            "Step 37000:\n",
            "tensor(0.0894, device='cuda:0', grad_fn=<AddBackward0>)\n",
            "Step 37500:\n",
            "tensor(0.0167, device='cuda:0', grad_fn=<AddBackward0>)\n",
            "Step 38000:\n",
            "tensor(0.0204, device='cuda:0', grad_fn=<AddBackward0>)\n",
            "Step 38500:\n",
            "tensor(0.0191, device='cuda:0', grad_fn=<AddBackward0>)\n",
            "Step 39000:\n",
            "tensor(0.0171, device='cuda:0', grad_fn=<AddBackward0>)\n",
            "Step 39500:\n",
            "tensor(0.0124, device='cuda:0', grad_fn=<AddBackward0>)\n",
            "Step 40000:\n",
            "tensor(0.0228, device='cuda:0', grad_fn=<AddBackward0>)\n",
            "Step 40500:\n",
            "tensor(0.0215, device='cuda:0', grad_fn=<AddBackward0>)\n",
            "Step 41000:\n",
            "tensor(0.0164, device='cuda:0', grad_fn=<AddBackward0>)\n",
            "Step 41500:\n",
            "tensor(0.0153, device='cuda:0', grad_fn=<AddBackward0>)\n",
            "Step 42000:\n",
            "tensor(0.0180, device='cuda:0', grad_fn=<AddBackward0>)\n",
            "Step 42500:\n",
            "tensor(0.0142, device='cuda:0', grad_fn=<AddBackward0>)\n",
            "Step 43000:\n",
            "tensor(0.0164, device='cuda:0', grad_fn=<AddBackward0>)\n",
            "Step 43500:\n",
            "tensor(0.0363, device='cuda:0', grad_fn=<AddBackward0>)\n",
            "Step 44000:\n",
            "tensor(0.0184, device='cuda:0', grad_fn=<AddBackward0>)\n",
            "Step 44500:\n",
            "tensor(0.0249, device='cuda:0', grad_fn=<AddBackward0>)\n",
            "Step 45000:\n",
            "tensor(0.0152, device='cuda:0', grad_fn=<AddBackward0>)\n",
            "Step 45500:\n",
            "tensor(0.0248, device='cuda:0', grad_fn=<AddBackward0>)\n",
            "Step 46000:\n",
            "tensor(0.0130, device='cuda:0', grad_fn=<AddBackward0>)\n",
            "Step 46500:\n",
            "tensor(0.0277, device='cuda:0', grad_fn=<AddBackward0>)\n",
            "Step 47000:\n",
            "tensor(0.0139, device='cuda:0', grad_fn=<AddBackward0>)\n",
            "Step 47500:\n",
            "tensor(0.0179, device='cuda:0', grad_fn=<AddBackward0>)\n",
            "Step 48000:\n",
            "tensor(0.0181, device='cuda:0', grad_fn=<AddBackward0>)\n",
            "Step 48500:\n",
            "tensor(0.0153, device='cuda:0', grad_fn=<AddBackward0>)\n",
            "Step 49000:\n",
            "tensor(0.0177, device='cuda:0', grad_fn=<AddBackward0>)\n",
            "Step 49500:\n",
            "tensor(0.0193, device='cuda:0', grad_fn=<AddBackward0>)\n",
            "Step 50000:\n",
            "tensor(0.0137, device='cuda:0', grad_fn=<AddBackward0>)\n",
            "Step 50500:\n",
            "tensor(0.0203, device='cuda:0', grad_fn=<AddBackward0>)\n",
            "Step 51000:\n",
            "tensor(0.0373, device='cuda:0', grad_fn=<AddBackward0>)\n",
            "Step 51500:\n",
            "tensor(0.0148, device='cuda:0', grad_fn=<AddBackward0>)\n",
            "Step 52000:\n",
            "tensor(0.0148, device='cuda:0', grad_fn=<AddBackward0>)\n",
            "Step 52500:\n",
            "tensor(0.0158, device='cuda:0', grad_fn=<AddBackward0>)\n",
            "Step 53000:\n",
            "tensor(0.0172, device='cuda:0', grad_fn=<AddBackward0>)\n",
            "Step 53500:\n",
            "tensor(0.0147, device='cuda:0', grad_fn=<AddBackward0>)\n",
            "Step 54000:\n",
            "tensor(0.0192, device='cuda:0', grad_fn=<AddBackward0>)\n",
            "Step 54500:\n",
            "tensor(0.0140, device='cuda:0', grad_fn=<AddBackward0>)\n",
            "Step 55000:\n",
            "tensor(0.0128, device='cuda:0', grad_fn=<AddBackward0>)\n",
            "Step 55500:\n",
            "tensor(0.0135, device='cuda:0', grad_fn=<AddBackward0>)\n",
            "Step 56000:\n",
            "tensor(0.0134, device='cuda:0', grad_fn=<AddBackward0>)\n",
            "Step 56500:\n",
            "tensor(0.0178, device='cuda:0', grad_fn=<AddBackward0>)\n",
            "Step 57000:\n",
            "tensor(0.0180, device='cuda:0', grad_fn=<AddBackward0>)\n",
            "Step 57500:\n",
            "tensor(0.0157, device='cuda:0', grad_fn=<AddBackward0>)\n",
            "Step 58000:\n",
            "tensor(0.0184, device='cuda:0', grad_fn=<AddBackward0>)\n",
            "Step 58500:\n",
            "tensor(0.0150, device='cuda:0', grad_fn=<AddBackward0>)\n",
            "Step 59000:\n",
            "tensor(0.0226, device='cuda:0', grad_fn=<AddBackward0>)\n",
            "Step 59500:\n",
            "tensor(0.0167, device='cuda:0', grad_fn=<AddBackward0>)\n",
            "Step 60000:\n",
            "tensor(0.0135, device='cuda:0', grad_fn=<AddBackward0>)\n",
            "Step 60500:\n",
            "tensor(0.0124, device='cuda:0', grad_fn=<AddBackward0>)\n",
            "Step 61000:\n",
            "tensor(0.0173, device='cuda:0', grad_fn=<AddBackward0>)\n",
            "Step 61500:\n",
            "tensor(0.0166, device='cuda:0', grad_fn=<AddBackward0>)\n",
            "Step 62000:\n",
            "tensor(0.0174, device='cuda:0', grad_fn=<AddBackward0>)\n",
            "Step 62500:\n",
            "tensor(0.0115, device='cuda:0', grad_fn=<AddBackward0>)\n",
            "Step 63000:\n",
            "tensor(0.0125, device='cuda:0', grad_fn=<AddBackward0>)\n",
            "Step 63500:\n",
            "tensor(0.0112, device='cuda:0', grad_fn=<AddBackward0>)\n",
            "Step 64000:\n",
            "tensor(0.0173, device='cuda:0', grad_fn=<AddBackward0>)\n",
            "Step 64500:\n",
            "tensor(0.0122, device='cuda:0', grad_fn=<AddBackward0>)\n",
            "Step 65000:\n",
            "tensor(0.0162, device='cuda:0', grad_fn=<AddBackward0>)\n",
            "Step 65500:\n",
            "tensor(0.0142, device='cuda:0', grad_fn=<AddBackward0>)\n",
            "Step 66000:\n",
            "tensor(0.0161, device='cuda:0', grad_fn=<AddBackward0>)\n",
            "Step 66500:\n",
            "tensor(0.0154, device='cuda:0', grad_fn=<AddBackward0>)\n",
            "Step 67000:\n",
            "tensor(0.0134, device='cuda:0', grad_fn=<AddBackward0>)\n",
            "Step 67500:\n",
            "tensor(0.0183, device='cuda:0', grad_fn=<AddBackward0>)\n",
            "Step 68000:\n",
            "tensor(0.0094, device='cuda:0', grad_fn=<AddBackward0>)\n",
            "Step 68500:\n",
            "tensor(0.0145, device='cuda:0', grad_fn=<AddBackward0>)\n",
            "Step 69000:\n",
            "tensor(0.0155, device='cuda:0', grad_fn=<AddBackward0>)\n",
            "Step 69500:\n",
            "tensor(0.0120, device='cuda:0', grad_fn=<AddBackward0>)\n",
            "Step 70000:\n",
            "tensor(0.0129, device='cuda:0', grad_fn=<AddBackward0>)\n",
            "Step 70500:\n",
            "tensor(0.0099, device='cuda:0', grad_fn=<AddBackward0>)\n",
            "Step 71000:\n",
            "tensor(0.0156, device='cuda:0', grad_fn=<AddBackward0>)\n",
            "Step 71500:\n",
            "tensor(0.0151, device='cuda:0', grad_fn=<AddBackward0>)\n",
            "Step 72000:\n",
            "tensor(0.0120, device='cuda:0', grad_fn=<AddBackward0>)\n",
            "Step 72500:\n",
            "tensor(0.0119, device='cuda:0', grad_fn=<AddBackward0>)\n",
            "Step 73000:\n",
            "tensor(0.0121, device='cuda:0', grad_fn=<AddBackward0>)\n",
            "Step 73500:\n",
            "tensor(0.0133, device='cuda:0', grad_fn=<AddBackward0>)\n",
            "Step 74000:\n",
            "tensor(0.0189, device='cuda:0', grad_fn=<AddBackward0>)\n",
            "Step 74500:\n",
            "tensor(0.0109, device='cuda:0', grad_fn=<AddBackward0>)\n",
            "Step 75000:\n",
            "tensor(0.0151, device='cuda:0', grad_fn=<AddBackward0>)\n",
            "Step 75500:\n",
            "tensor(0.0121, device='cuda:0', grad_fn=<AddBackward0>)\n",
            "Step 76000:\n",
            "tensor(0.0114, device='cuda:0', grad_fn=<AddBackward0>)\n",
            "Step 76500:\n",
            "tensor(0.0104, device='cuda:0', grad_fn=<AddBackward0>)\n",
            "Step 77000:\n",
            "tensor(0.0096, device='cuda:0', grad_fn=<AddBackward0>)\n",
            "Step 77500:\n",
            "tensor(0.0111, device='cuda:0', grad_fn=<AddBackward0>)\n",
            "Step 78000:\n",
            "tensor(0.0148, device='cuda:0', grad_fn=<AddBackward0>)\n",
            "Step 78500:\n",
            "tensor(0.0137, device='cuda:0', grad_fn=<AddBackward0>)\n",
            "Step 79000:\n",
            "tensor(0.0149, device='cuda:0', grad_fn=<AddBackward0>)\n",
            "Step 79500:\n",
            "tensor(0.0124, device='cuda:0', grad_fn=<AddBackward0>)\n",
            "Step 80000:\n",
            "tensor(0.0128, device='cuda:0', grad_fn=<AddBackward0>)\n"
          ],
          "name": "stdout"
        },
        {
          "output_type": "display_data",
          "data": {
            "image/png": "[encoded data removed]",
            "text/plain": [
              "<Figure size 432x288 with 1 Axes>"
            ]
          },
          "metadata": {
            "tags": [],
            "needs_background": "light"
          }
        }
      ]
    },
    {
      "cell_type": "code",
      "metadata": {
        "id": "NJ5X3mWBt5lV"
      },
      "source": [
        "IGR.save_model(traineddata_path, model)"
      ],
      "execution_count": null,
      "outputs": []
    },
    {
      "cell_type": "code",
      "metadata": {
        "id": "7ih9PLvRGWOR"
      },
      "source": [
        "xx, yy = Visualization.grid_from_torch(dataset[:,0], dataset[:,1], resx=50, resy=50, device=device)"
      ],
      "execution_count": null,
      "outputs": []
    },
    {
      "cell_type": "code",
      "metadata": {
        "id": "dhqrdTyc64nx",
        "outputId": "6090b754-e7bb-42df-b31b-e284a9d5c592",
        "colab": {
          "base_uri": "https://localhost:8080/",
          "height": 263
        }
      },
      "source": [
        "output_path = 'g_norm_rider_omitted_0.2.txt'\n",
        "z = Visualization.nn_sampling(model, xx, yy, g_norm_output_path = output_path, device=device)"
      ],
      "execution_count": null,
      "outputs": [
        {
          "output_type": "stream",
          "text": [
            "Value of function on each grid point\n",
            "tensor([[-3.9668, -3.7110, -3.4943,  ..., -8.8838, -9.2492, -9.6194],\n",
            "        [-3.5709, -3.3442, -3.0821,  ..., -8.6132, -9.0032, -9.4166],\n",
            "        [-3.1452, -2.9687, -2.7475,  ..., -8.4069, -8.8175, -9.2271],\n",
            "        ...,\n",
            "        [-3.8070, -3.3904, -2.9551,  ..., -3.8565, -3.9625, -4.1203],\n",
            "        [-3.9371, -3.5225, -3.1270,  ..., -4.3191, -4.4146, -4.5564],\n",
            "        [-4.1282, -3.8025, -3.3826,  ..., -4.7930, -4.8780, -5.0009]],\n",
            "       device='cuda:0', grad_fn=<ViewBackward>)\n",
            "\n",
            "Grad on each grid point\n",
            "Minimum value: 0.057179782539606094\n",
            "Maximum value: 1.8053840398788452\n",
            "Norm of gradient saved\n"
          ],
          "name": "stdout"
        }
      ]
    },
    {
      "cell_type": "code",
      "metadata": {
        "id": "I-JqpEFj9pd2",
        "outputId": "140659c2-70cf-48c1-8de4-8796af265a26",
        "colab": {
          "base_uri": "https://localhost:8080/",
          "height": 1000
        }
      },
      "source": [
        "Visualization.visualize2(dataset.detach().cpu().numpy(), normal_vectors.detach().cpu().numpy(), xx.detach().cpu().numpy(), yy.detach().cpu().numpy(), z.detach().cpu().numpy(), scatter=True, vecfield=True, surface=True, filled_contour=True)"
      ],
      "execution_count": null,
      "outputs": [
        {
          "output_type": "display_data",
          "data": {
            "image/png": "[encoded data removed]",
            "text/plain": [
              "<Figure size 432x288 with 1 Axes>"
            ]
          },
          "metadata": {
            "tags": [],
            "needs_background": "light"
          }
        },
        {
          "output_type": "display_data",
          "data": {
            "image/png": "[encoded data removed]",
            "text/plain": [
              "<Figure size 432x288 with 1 Axes>"
            ]
          },
          "metadata": {
            "tags": [],
            "needs_background": "light"
          }
        },
        {
          "output_type": "display_data",
          "data": {
            "image/png": "[encoded data removed]",
            "text/plain": [
              "<Figure size 432x288 with 1 Axes>"
            ]
          },
          "metadata": {
            "tags": [],
            "needs_background": "light"
          }
        },
        {
          "output_type": "display_data",
          "data": {
            "image/png": "[encoded data removed]",
            "text/plain": [
              "<Figure size 432x288 with 1 Axes>"
            ]
          },
          "metadata": {
            "tags": [],
            "needs_background": "light"
          }
        }
      ]
    },
    {
      "cell_type": "code",
      "metadata": {
        "id": "CoIihQrIVoUI"
      },
      "source": [
        "# x = torch.tensor([1,2,3,4])\n",
        "# y = torch.tensor([5,6])\n",
        "# x = torch.unsqueeze(x, dim=1)\n",
        "# y = torch.unsqueeze(y, dim=1)\n",
        "# z = torch.stack([x, y], dim=1)\n",
        "# print(z)\n",
        "# x = torch.rand(10,2)\n",
        "# # print(x.sum(dim=0))\n",
        "# x = torch.rand((10,2))\n",
        "# y = torch.ones((5,2))\n",
        "# z = torch.cat((x,y))\n",
        "# z"
      ],
      "execution_count": null,
      "outputs": []
    }
  ]
}