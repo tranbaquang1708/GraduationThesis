{
  "nbformat": 4,
  "nbformat_minor": 0,
  "metadata": {
    "colab": {
      "name": "rbf_sphere_comparetime.ipynb",
      "provenance": [],
      "collapsed_sections": [],
      "mount_file_id": "1dWK4bG5es22O0b1TxE1bYPcQNsVmlPvI",
      "authorship_tag": "ABX9TyOFIkSYVzvP7Mj6b/0rNMnc",
      "include_colab_link": true
    },
    "kernelspec": {
      "name": "python3",
      "display_name": "Python 3"
    }
  },
  "cells": [
    {
      "cell_type": "markdown",
      "metadata": {
        "id": "view-in-github",
        "colab_type": "text"
      },
      "source": [
        "<a href=\"https://colab.research.google.com/github/tranbaquang1708/GraduationThesis/blob/develop/rbf_sphere_comparetime.ipynb\" target=\"_parent\"><img src=\"https://colab.research.google.com/assets/colab-badge.svg\" alt=\"Open In Colab\"/></a>"
      ]
    },
    {
      "cell_type": "code",
      "metadata": {
        "id": "NF9F9ECwkppU",
        "colab_type": "code",
        "colab": {}
      },
      "source": [
        "# Time comparation between vectorized code and nonvectorized code\n",
        "# Dataset: Sphere"
      ],
      "execution_count": 47,
      "outputs": []
    },
    {
      "cell_type": "code",
      "metadata": {
        "id": "exsvJVgUkrno",
        "colab_type": "code",
        "colab": {}
      },
      "source": [
        "import sys\n",
        "import os\n",
        "mp = os.path.abspath(os.path.join('/content/drive/My Drive/GraduationThesis/gitrepo/GraduationThesis/'))\n",
        "sys.path.append(mp)"
      ],
      "execution_count": 48,
      "outputs": []
    },
    {
      "cell_type": "code",
      "metadata": {
        "id": "PWfIQhLFkuwr",
        "colab_type": "code",
        "colab": {}
      },
      "source": [
        "import numpy as np\n",
        "import timeit\n",
        "from modules import Rbf"
      ],
      "execution_count": 49,
      "outputs": []
    },
    {
      "cell_type": "code",
      "metadata": {
        "id": "iJUUWp6VkwxT",
        "colab_type": "code",
        "colab": {}
      },
      "source": [
        "# Import point data\n",
        "filename = mp + \"/dataset/3d/sphere.xyz\"\n",
        "dataset,normal_vectors = Rbf.gen_from_txt3(filename, offset=0.01)"
      ],
      "execution_count": 50,
      "outputs": []
    },
    {
      "cell_type": "code",
      "metadata": {
        "id": "cWCpimE-lSji",
        "colab_type": "code",
        "colab": {}
      },
      "source": [
        "SETUP = \"\"\"\n",
        "import numpy as np\n",
        "from numpy import ma\n",
        "from scipy import linalg\n",
        "from scipy.spatial.distance import squareform,pdist\n",
        "import scipy\n",
        "from __main__ import dataset\n",
        "\"\"\""
      ],
      "execution_count": 51,
      "outputs": []
    },
    {
      "cell_type": "code",
      "metadata": {
        "id": "GyXimXp-lVv6",
        "colab_type": "code",
        "colab": {}
      },
      "source": [
        "# Non-vectorized version of solving weight function and display memory usage\n",
        "LOOP_SOLVE = \"\"\"\n",
        "offset = 0.01\n",
        "num_points = len(dataset)\n",
        "num_on_points = int(num_points/3)\n",
        "\n",
        "A = np.zeros((num_points, num_points))\n",
        "for i in range(num_points):\n",
        "  for j in range(num_points):\n",
        "    norm = (dataset[i,0] - dataset[j,0])**2 + (dataset[i,1] - dataset[j,1])**2 + (dataset[i,2] - dataset[j,2])**2\n",
        "    if norm != 0:\n",
        "      A[i,j] = np.sqrt(norm)\n",
        "\n",
        "print(\"Data: \" + str(num_on_points) + \" points\")\n",
        "print(\"Memory usage: \" + str(sys.getsizeof(A)) + \" bytes\")\n",
        "print()\n",
        "\n",
        "## b: the vector of the function values at the point from the data-set\n",
        "b = np.zeros(num_points)\n",
        "\n",
        "for i in range(num_on_points, 2*num_on_points):\n",
        "  b[i] = -offset\n",
        "\n",
        "for i in range(2*num_on_points,3*num_on_points):\n",
        "  b[i] = offset\n",
        "\n",
        "w = scipy.linalg.solve(A,b)\n",
        "\"\"\""
      ],
      "execution_count": 52,
      "outputs": []
    },
    {
      "cell_type": "code",
      "metadata": {
        "id": "C9DCtLDnlv3D",
        "colab_type": "code",
        "colab": {}
      },
      "source": [
        "# Vectorized version of solving weight function \n",
        "VEC_SOLVE= \"\"\"\n",
        "offset = 0.01\n",
        "num_points = len(dataset)\n",
        "num_on_points = int(num_points/3)\n",
        "\n",
        "r = squareform(pdist(dataset))\n",
        "A = r\n",
        "\n",
        "## b: the vector of the function values at the point from the data-set\n",
        "b = np.zeros(num_points)\n",
        "\n",
        "b[num_on_points:2*num_on_points] = -offset\n",
        "b[2*num_on_points:3*num_on_points] = offset\n",
        "\n",
        "w = scipy.linalg.solve(A,b)\n",
        "\"\"\""
      ],
      "execution_count": 53,
      "outputs": []
    },
    {
      "cell_type": "code",
      "metadata": {
        "id": "qrT0joGcl0uh",
        "colab_type": "code",
        "colab": {
          "base_uri": "https://localhost:8080/",
          "height": 122
        },
        "outputId": "3a5e8d09-4071-4015-c167-8cf63094178e"
      },
      "source": [
        "# Time comparison\n",
        "loop_time = timeit.timeit(LOOP_SOLVE, SETUP, number = 1)\n",
        "print(\"Non-vectorized: \" + str(loop_time) + \" second(s)\")\n",
        "\n",
        "vec_time = timeit.timeit(setup = SETUP, stmt = VEC_SOLVE, number = 1)\n",
        "print(\"Vectorized: \" + str(vec_time) + \" second(s)\")\n",
        "\n",
        "print(\"Speedup: \" + str(loop_time/vec_time) + \" times\")"
      ],
      "execution_count": 54,
      "outputs": [
        {
          "output_type": "stream",
          "text": [
            "Data: 642 points\n",
            "Memory usage: 29675920 bytes\n",
            "\n",
            "Non-vectorized: 16.68093865500009 second(s)\n",
            "Vectorized: 0.2946086970000579 second(s)\n",
            "Speedup: 56.62065928419219 times\n"
          ],
          "name": "stdout"
        }
      ]
    },
    {
      "cell_type": "code",
      "metadata": {
        "id": "oVOmsROtl3Ya",
        "colab_type": "code",
        "colab": {}
      },
      "source": [
        "# Solve weight function\n",
        "w = Rbf.solve_w_func(dataset, offset=0.01, func=Rbf.thin_plate)"
      ],
      "execution_count": 55,
      "outputs": []
    },
    {
      "cell_type": "code",
      "metadata": {
        "id": "gb9nNzNHl6NM",
        "colab_type": "code",
        "colab": {}
      },
      "source": [
        "SETUP = \"\"\"\n",
        "import numpy as np\n",
        "from numpy import ma\n",
        "from scipy import linalg\n",
        "from scipy.spatial.distance import squareform,pdist\n",
        "import scipy\n",
        "from __main__ import dataset,xx,yy,zz,w\n",
        "\"\"\""
      ],
      "execution_count": 56,
      "outputs": []
    },
    {
      "cell_type": "code",
      "metadata": {
        "id": "6-s8pzplmBLE",
        "colab_type": "code",
        "colab": {}
      },
      "source": [
        "# Non-vectorized version of sampling function\n",
        "LOOP_SAMPLING = \"\"\"\n",
        "dimg = xx.shape\n",
        "dimw = w.shape\n",
        "z = np.zeros(dimg)\n",
        "for i in range(dimg[0]):\n",
        "  for j in range(dimg[1]):\n",
        "    for l in range(dimg[2]):\n",
        "      z[i,j] = 0.0\n",
        "      for k in range(dimw[0]):\n",
        "        nxy = (xx[i,j,l]-dataset[k,0])**2 + (yy[i,j,l]-dataset[k,1])**2 + (zz[i,j,l]-dataset[k,2])**2\n",
        "        if (nxy != 0):\n",
        "          z[i,j] += w[k]*nxy\n",
        "\"\"\""
      ],
      "execution_count": 57,
      "outputs": []
    },
    {
      "cell_type": "code",
      "metadata": {
        "id": "ct13A8vtmX3m",
        "colab_type": "code",
        "colab": {}
      },
      "source": [
        "# Vectorized version of sampling function\n",
        "VEC_SAMPLING = \"\"\"\n",
        "dimg = xx.shape\n",
        "dimw = w.shape\n",
        "z = np.zeros(dimg)\n",
        "for k in range(int(dimw[0])):\n",
        "  r = (xx - dataset[k,0])**2 + (yy - dataset[k,1])**2 + (zz - dataset[k,2])**2\n",
        "  z += w[k] * np.sqrt(r)\n",
        "\"\"\""
      ],
      "execution_count": 58,
      "outputs": []
    },
    {
      "cell_type": "code",
      "metadata": {
        "id": "YzC3IwF3nKU2",
        "colab_type": "code",
        "colab": {}
      },
      "source": [
        "# Create 2D regular grid obtained\n",
        "xx,yy,zz = Rbf.grid(dataset[:,0], dataset[:,1], dataset[:,2])"
      ],
      "execution_count": 59,
      "outputs": []
    },
    {
      "cell_type": "code",
      "metadata": {
        "id": "a1HUvZomnV06",
        "colab_type": "code",
        "colab": {
          "base_uri": "https://localhost:8080/",
          "height": 70
        },
        "outputId": "fee3d364-5df2-4c75-ac59-708167b8c301"
      },
      "source": [
        "# Time comparison\n",
        "loop_time = timeit.timeit(LOOP_SAMPLING, SETUP, number=1)\n",
        "print(\"Non-vectorized: \" + str(loop_time) + \" second(s)\")\n",
        "\n",
        "vec_time = timeit.timeit(VEC_SAMPLING, SETUP, number=1)\n",
        "print(\"Vectorized: \" + str(vec_time) + \" second(s)\")\n",
        "\n",
        "print(\"Speedup: \" + str(loop_time/vec_time) + \" times\")"
      ],
      "execution_count": 60,
      "outputs": [
        {
          "output_type": "stream",
          "text": [
            "Non-vectorized: 1347.5872300869999 second(s)\n",
            "Vectorized: 3.0901942860000418 second(s)\n",
            "Speedup: 436.08495303747435 times\n"
          ],
          "name": "stdout"
        }
      ]
    }
  ]
}