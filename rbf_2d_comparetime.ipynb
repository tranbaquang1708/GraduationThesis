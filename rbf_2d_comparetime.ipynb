{
  "nbformat": 4,
  "nbformat_minor": 0,
  "metadata": {
    "colab": {
      "name": "rbf_2d_comparetime.ipynb",
      "provenance": [],
      "collapsed_sections": [],
      "mount_file_id": "11femiHAV5RtVSD47Kstt6KeghHgdigut",
      "authorship_tag": "ABX9TyMRnsur4uiYQQl/QGDSN8Vc",
      "include_colab_link": true
    },
    "kernelspec": {
      "name": "python3",
      "display_name": "Python 3"
    }
  },
  "cells": [
    {
      "cell_type": "markdown",
      "metadata": {
        "id": "view-in-github",
        "colab_type": "text"
      },
      "source": [
        "<a href=\"https://colab.research.google.com/github/tranbaquang1708/GraduationThesis/blob/develop/rbf_2d_comparetime.ipynb\" target=\"_parent\"><img src=\"https://colab.research.google.com/assets/colab-badge.svg\" alt=\"Open In Colab\"/></a>"
      ]
    },
    {
      "cell_type": "code",
      "metadata": {
        "id": "uU6cVWayJo_t",
        "colab_type": "code",
        "colab": {}
      },
      "source": [
        "# Time comparation betwwen vectorized code and nonvectorized code\n",
        "# Dataset: 2D"
      ],
      "execution_count": 1,
      "outputs": []
    },
    {
      "cell_type": "code",
      "metadata": {
        "id": "It3PYm3qJ6BM",
        "colab_type": "code",
        "colab": {}
      },
      "source": [
        "import sys\n",
        "import os\n",
        "mp = os.path.abspath(os.path.join('/content/drive/My Drive/GraduationThesis/gitrepo/GraduationThesis/'))\n",
        "sys.path.append(mp)"
      ],
      "execution_count": 2,
      "outputs": []
    },
    {
      "cell_type": "code",
      "metadata": {
        "id": "L3d0WVzyJ_ZI",
        "colab_type": "code",
        "colab": {}
      },
      "source": [
        "import numpy as np\n",
        "import timeit\n",
        "from modules import Rbf"
      ],
      "execution_count": 3,
      "outputs": []
    },
    {
      "cell_type": "code",
      "metadata": {
        "id": "2HFkRU-PKGDH",
        "colab_type": "code",
        "colab": {}
      },
      "source": [
        "# Create dataset\n",
        "# Import point data\n",
        "filename = mp + \"/dataset/2d/superior.vert\"\n",
        "dataset,normal_vectors = Rbf.gen_from_txt2(filename, offset=0.01)"
      ],
      "execution_count": 4,
      "outputs": []
    },
    {
      "cell_type": "code",
      "metadata": {
        "id": "tIm2LMa_MyhA",
        "colab_type": "code",
        "colab": {}
      },
      "source": [
        "SETUP = \"\"\"\n",
        "import numpy as np\n",
        "from numpy import ma\n",
        "from scipy import linalg\n",
        "from scipy.spatial.distance import squareform,pdist\n",
        "import scipy\n",
        "from __main__ import dataset\n",
        "\"\"\""
      ],
      "execution_count": 5,
      "outputs": []
    },
    {
      "cell_type": "code",
      "metadata": {
        "id": "Icdak5z0KT_O",
        "colab_type": "code",
        "colab": {}
      },
      "source": [
        "# Non-vectorized version of solving weight function\n",
        "LOOP_SOLVE = \"\"\"\n",
        "offset = 0.01\n",
        "num_points = len(dataset)\n",
        "num_on_points = int(num_points/3)\n",
        "\n",
        "A = np.zeros((num_points, num_points))\n",
        "for i in range(num_points):\n",
        "  for j in range(num_points):\n",
        "    norm = (dataset[i][0] - dataset[j][0])**2 + (dataset[i][1] - dataset[j][1])**2\n",
        "    if norm != 0:\n",
        "      A[i][j] = norm * np.log(np.sqrt(norm))\n",
        "\n",
        "print(\"Data: \" + str(num_on_points) + \" points\")\n",
        "print(\"Memory usage: \" + str(sys.getsizeof(A)) + \" bytes\")\n",
        "print()\n",
        "\n",
        "## b: the vector of the function values at the point from the data-set\n",
        "b = np.zeros(num_points)\n",
        "\n",
        "for i in range(num_on_points, 2*num_on_points):\n",
        "  b[i] = -offset\n",
        "\n",
        "for i in range(2*num_on_points,3*num_on_points):\n",
        "  b[i] = offset\n",
        "\n",
        "w = scipy.linalg.solve(A,b)\n",
        "\"\"\""
      ],
      "execution_count": 6,
      "outputs": []
    },
    {
      "cell_type": "code",
      "metadata": {
        "id": "gCYNN5qdUh9x",
        "colab_type": "code",
        "colab": {}
      },
      "source": [
        "# Vectorized version of solving weight function \n",
        "VEC_SOLVE= \"\"\"\n",
        "offset = 0.01\n",
        "num_points = len(dataset)\n",
        "num_on_points = int(num_points/3)\n",
        "\n",
        "r = squareform(pdist(dataset))\n",
        "A = (r*r*ma.log(r)).filled(0)\n",
        "\n",
        "## b: the vector of the function values at the point from the data-set\n",
        "b = np.zeros(num_points)\n",
        "\n",
        "b[num_on_points:2*num_on_points] = -offset\n",
        "b[2*num_on_points:3*num_on_points] = offset\n",
        "\n",
        "w = scipy.linalg.solve(A,b)\n",
        "\"\"\""
      ],
      "execution_count": 7,
      "outputs": []
    },
    {
      "cell_type": "code",
      "metadata": {
        "id": "6lQ-XZHtKKnx",
        "colab_type": "code",
        "colab": {
          "base_uri": "https://localhost:8080/",
          "height": 122
        },
        "outputId": "6b16e732-56fc-431e-8f49-745f2da99fb8"
      },
      "source": [
        "# Time comparison\n",
        "loop_time = timeit.timeit(LOOP_SOLVE, SETUP, number = 1)\n",
        "print(\"Non-vectorized: \" + str(loop_time) + \" second(s)\")\n",
        "\n",
        "vec_time = timeit.timeit(setup = SETUP, stmt = VEC_SOLVE, number = 1)\n",
        "print(\"Vectorized: \" + str(vec_time) + \" second(s)\")\n",
        "\n",
        "print(\"Speedup: \" + str(loop_time/vec_time) + \" times\")"
      ],
      "execution_count": 8,
      "outputs": [
        {
          "output_type": "stream",
          "text": [
            "Data: 518 points\n",
            "Memory usage: 19319440 bytes\n",
            "\n",
            "Non-vectorized: 14.009358008000163 second(s)\n",
            "Vectorized: 0.30164727899955324 second(s)\n",
            "Speedup: 46.442845612477456 times\n"
          ],
          "name": "stdout"
        }
      ]
    },
    {
      "cell_type": "code",
      "metadata": {
        "id": "yRKN4qjTXbCQ",
        "colab_type": "code",
        "colab": {}
      },
      "source": [
        "# Solve weight function\n",
        "w = Rbf.solve_w_func(dataset, offset=0.01, func=Rbf.thin_plate)"
      ],
      "execution_count": 9,
      "outputs": []
    },
    {
      "cell_type": "code",
      "metadata": {
        "id": "qAbVqKS5ddHp",
        "colab_type": "code",
        "colab": {}
      },
      "source": [
        "SETUP = \"\"\"\n",
        "import numpy as np\n",
        "from numpy import ma\n",
        "from scipy import linalg\n",
        "from scipy.spatial.distance import squareform,pdist\n",
        "import scipy\n",
        "from __main__ import dataset,xx,yy, w\n",
        "\"\"\""
      ],
      "execution_count": 10,
      "outputs": []
    },
    {
      "cell_type": "code",
      "metadata": {
        "id": "PC3oFmVKWxCy",
        "colab_type": "code",
        "colab": {}
      },
      "source": [
        "# Non-vectorized version of sampling function\n",
        "LOOP_SAMPLING = \"\"\"\n",
        "dimg = xx.shape\n",
        "dimw = w.shape\n",
        "z = np.zeros(dimg)\n",
        "for i in range(dimg[0]):\n",
        "  for j in range(dimg[1]):\n",
        "    z[i][j] = 0.0\n",
        "    for k in range(dimw[0]):\n",
        "      nxy = (xx[i][j]-dataset[k][0])**2 + (yy[i][j]-dataset[k][1])**2\n",
        "      if (nxy != 0):\n",
        "        z[i][j] += w[k]*nxy*np.log(np.sqrt(nxy))\n",
        "\"\"\""
      ],
      "execution_count": 11,
      "outputs": []
    },
    {
      "cell_type": "code",
      "metadata": {
        "id": "RmAR0gpEXJpH",
        "colab_type": "code",
        "colab": {}
      },
      "source": [
        "# Vectorized version of sampling function\n",
        "VEC_SAMPLING = \"\"\"\n",
        "dimg = xx.shape\n",
        "dimw = w.shape\n",
        "z = np.zeros(dimg)\n",
        "for k in range(int(dimw[0])):\n",
        "  r = (xx - dataset[k,0])**2 + (yy - dataset[k,1])**2\n",
        "  z += w[k] * ((r*ma.log(np.sqrt(r))).filled(0))\n",
        "\"\"\""
      ],
      "execution_count": 12,
      "outputs": []
    },
    {
      "cell_type": "code",
      "metadata": {
        "id": "PJLF_kJbKRHB",
        "colab_type": "code",
        "colab": {}
      },
      "source": [
        "# Create 2D regular grid obtained\n",
        "xx,yy = Rbf.grid(dataset[:,0], dataset[:,1])"
      ],
      "execution_count": 13,
      "outputs": []
    },
    {
      "cell_type": "code",
      "metadata": {
        "id": "FkBuMh8sXtOf",
        "colab_type": "code",
        "colab": {
          "base_uri": "https://localhost:8080/",
          "height": 70
        },
        "outputId": "54964050-80f7-4cc0-d1a4-b5222048fb55"
      },
      "source": [
        "# Time comparison\n",
        "loop_time = timeit.timeit(LOOP_SAMPLING, SETUP, number=1)\n",
        "print(\"Non-vectorized: \" + str(loop_time) + \" second(s)\")\n",
        "\n",
        "vec_time = timeit.timeit(VEC_SAMPLING, SETUP, number=1)\n",
        "print(\"Vectorized: \" + str(vec_time) + \" second(s)\")\n",
        "\n",
        "print(\"Speedup: \" + str(loop_time/vec_time) + \" times\")"
      ],
      "execution_count": 14,
      "outputs": [
        {
          "output_type": "stream",
          "text": [
            "Non-vectorized: 24.124633356999766 second(s)\n",
            "Vectorized: 0.3050167789997431 second(s)\n",
            "Speedup: 79.09280740591679 times\n"
          ],
          "name": "stdout"
        }
      ]
    }
  ]
}