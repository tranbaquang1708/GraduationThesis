{
  "nbformat": 4,
  "nbformat_minor": 0,
  "metadata": {
    "colab": {
      "name": "IRG_2d.ipynb",
      "provenance": [],
      "collapsed_sections": [],
      "mount_file_id": "1n0GVPFoSSjZBHdcTEfnu3bfHkH7sX-mw",
      "authorship_tag": "ABX9TyOwicid7C6No+3qZHkOgRaT"
    },
    "kernelspec": {
      "name": "python3",
      "display_name": "Python 3"
    },
    "accelerator": "GPU"
  },
  "cells": [
    {
      "cell_type": "code",
      "metadata": {
        "id": "TuZ3HxJ5aJIG",
        "colab_type": "code",
        "colab": {}
      },
      "source": [
        "import sys\n",
        "import os\n",
        "mp = os.path.abspath(os.path.join('/content/drive/My Drive/GraduationThesis/gitrepo/GraduationThesis/'))\n",
        "sys.path.append(mp)"
      ],
      "execution_count": 1,
      "outputs": []
    },
    {
      "cell_type": "code",
      "metadata": {
        "id": "WT4WVYFRXfAi",
        "colab_type": "code",
        "colab": {}
      },
      "source": [
        "import torch\n",
        "import torch.nn as nn\n",
        "import torch.nn.functional as F\n",
        "import numpy as np\n",
        "from modules import Rbf\n",
        "import math"
      ],
      "execution_count": 2,
      "outputs": []
    },
    {
      "cell_type": "code",
      "metadata": {
        "id": "gienXHdXqYvk",
        "colab_type": "code",
        "colab": {}
      },
      "source": [
        "device = torch.device('cuda' if torch.cuda.is_available() else 'cpu')"
      ],
      "execution_count": 3,
      "outputs": []
    },
    {
      "cell_type": "code",
      "metadata": {
        "id": "xi-6vYT1x_PM",
        "colab_type": "code",
        "colab": {}
      },
      "source": [
        "def read_txt2(filename, device):\n",
        "  onsurface_points = np.zeros((0,2))\n",
        "  shifted_points = np.zeros((0,2)) # onsurface_points left shifted by 1\n",
        "  first_point = np.zeros((1,2))\n",
        "  last_point = np.zeros((1,2))\n",
        "\n",
        "  with open(filename, 'r') as f:\n",
        "    for c in range(int(f.readline())):\n",
        "      num_of_verticles = int(f.readline())\n",
        "\n",
        "      first_point[0] = np.loadtxt(f, max_rows=1)\n",
        "      middle_points = np.loadtxt(f, max_rows=num_of_verticles-2)\n",
        "      last_point[0] = np.loadtxt(f, max_rows=1)\n",
        "\n",
        "      # Onsuface points order: first_point,middle_points,last_point\n",
        "      # Shifted points order:  middle_points,last_point,first_point\n",
        "      onsurface_points = np.concatenate((onsurface_points, first_point))    # Onsurface: first_point\n",
        "      onsurface_points = np.concatenate((onsurface_points, middle_points))  # Onsurface: middle_points\n",
        "      shifted_points = np.concatenate((shifted_points, middle_points))      # Shifted: middle_points\n",
        "      # Remove the last point if it is the same as the first point\n",
        "      if np.not_equal(last_point,first_point).any():\n",
        "        onsurface_points = np.concatenate((onsurface_points,last_point))    # Onsurface: last_point\n",
        "        shifted_points = np.concatenate((shifted_points,last_point))        # Shifted: last_point\n",
        "      shifted_points = np.concatenate((shifted_points,first_point))         # Shifted: first_point\n",
        "\n",
        "  # Vector of 2 consecutive points\n",
        "  vectors = shifted_points - onsurface_points\n",
        "  # Getting normal vectors\n",
        "  norm = np.linalg.norm(vectors, axis=1)\n",
        "  normal_vectors = np.ones_like(vectors)\n",
        "\n",
        "  normal_vectors[:,0] = np.divide(-vectors[:,1],norm)\n",
        "  normal_vectors[:,1] = np.divide(vectors[:,0],norm)\n",
        "\n",
        "  d = torch.from_numpy(onsurface_points).float().to(device)\n",
        "  d.requires_grad = True\n",
        "  n = torch.from_numpy(normal_vectors).float().to(device)\n",
        "  n.requires_grad = True\n",
        "\n",
        "  return d,n"
      ],
      "execution_count": 4,
      "outputs": []
    },
    {
      "cell_type": "code",
      "metadata": {
        "id": "ZMvPHi-oaN_x",
        "colab_type": "code",
        "colab": {}
      },
      "source": [
        "# Off surface points\n",
        "filename = mp + '/dataset/2d/riderr.vert'\n",
        "dataset, normal_vectors = read_txt2(filename, device)\n",
        "# dataset, mormal_vectors = dataset.to(device), normal_vectors.to(device)\n",
        "# dataset = dataset.to(device)\n",
        "# dataset.requires_grad = True\n",
        "# print(dataset)"
      ],
      "execution_count": 5,
      "outputs": []
    },
    {
      "cell_type": "code",
      "metadata": {
        "id": "UwCO0difEBgJ",
        "colab_type": "code",
        "colab": {}
      },
      "source": [
        "# Grid\n",
        "def dist_grid(X, Y):\n",
        "  xmin = torch.min(X).item()\n",
        "  xmax = torch.max(X).item()\n",
        "  ymin = torch.min(Y).item()\n",
        "  ymax = torch.max(Y).item()\n",
        "\n",
        "  # print(xmax)\n",
        "  # print(xmax.item())\n",
        "\n",
        "  dx = xmax - xmin\n",
        "  dy = ymax - ymin\n",
        "\n",
        "  resx = 50\n",
        "  resy = 50\n",
        "\n",
        "  ed = 0.1*math.sqrt(dx*dx+dy*dy)\n",
        "\n",
        "  x = torch.arange(xmin-ed, xmax+ed, step=(dx+2*ed)/float(resx))\n",
        "  y = torch.arange(ymin-ed, ymax+ed, step=(dy+2*ed)/float(resy))\n",
        "\n",
        "  return torch.meshgrid(x, y)"
      ],
      "execution_count": 6,
      "outputs": []
    },
    {
      "cell_type": "code",
      "metadata": {
        "id": "7ih9PLvRGWOR",
        "colab_type": "code",
        "colab": {}
      },
      "source": [
        "dist_x, dist_y = dist_grid(dataset[:,0], dataset[:,1])\n",
        "dist_x, dist_y = dist_x.to(device), dist_y.to(device)\n",
        "dist = torch.stack((dist_x, dist_y), axis=2)\n",
        "# dist = dist.to(device)\n",
        "dist.requires_grad = True"
      ],
      "execution_count": 7,
      "outputs": []
    },
    {
      "cell_type": "code",
      "metadata": {
        "id": "1OsF4FK1YzS3",
        "colab_type": "code",
        "colab": {}
      },
      "source": [
        "class IGRPerceptron(nn.Module):\n",
        "  def __init__(self):\n",
        "    super(IGRPerceptron, self).__init__()\n",
        "    self.fc1 = nn.Linear(2, 512)\n",
        "    self.fc2 = nn.Linear(512, 512)\n",
        "    self.fc3 = nn.Linear(512, 512)\n",
        "    self.fc4 = nn.Linear(512, 512)\n",
        "    self.fc5 = nn.Linear(512, 512)\n",
        "    self.fc_last = nn.Linear(512, 1)\n",
        "    self.activation = nn.Softplus()\n",
        "\n",
        "  def forward(self, x):\n",
        "    out = self.fc1(x)\n",
        "    # out = torch.flatten(out, 1)\n",
        "    out = self.activation(out)\n",
        "    out = self.fc2(out)\n",
        "    out = self.activation(out)\n",
        "    out = self.fc3(out)\n",
        "    out = self.activation(out)\n",
        "    out = self.fc4(out)\n",
        "    out = self.activation(out)\n",
        "    out = self.fc5(out)\n",
        "    out = self.activation(out)\n",
        "    out = self.fc_last(out)\n",
        "    return out"
      ],
      "execution_count": 8,
      "outputs": []
    },
    {
      "cell_type": "code",
      "metadata": {
        "id": "fpIOrWpZHzKq",
        "colab_type": "code",
        "colab": {}
      },
      "source": [
        "def eikonal(nn, distribution):\n",
        "  out = nn(distribution).sum().backward()\n",
        "  # out = out.backward()\n",
        "  # print(distribution.grad)\n",
        "  # print(out)\n",
        "  # print(nn(distribution).sum())\n",
        "  # print(distribution.grad)\n",
        "  return distribution.grad"
      ],
      "execution_count": 9,
      "outputs": []
    },
    {
      "cell_type": "code",
      "metadata": {
        "id": "Hr7IcArNX9Bw",
        "colab_type": "code",
        "colab": {}
      },
      "source": [
        "# loss = \\sum_I (w^T*x_i)^2 + 0.1 * (||w||^2 - 1)^2\n",
        "def irg_loss(nn, input, distribution):\n",
        "  # print(nn.device)\n",
        "  # print(eikonal(nn, distribution))\n",
        "  # w^T*x_1 = w_x1 * x_1 + w_y1 * y_1 + w_x2 * x_1 + w_y2 * y_1 + ... + w_xn * x_1 + w_yn * y_1\n",
        "  # return torch.sum(torch.square(torch.sum(torch.sum(w*x[:,None], dim=1), dim=1))) + 0.1*torch.square(torch.square(torch.norm(w)-1))\n",
        "\n",
        "  # w^t * x_1 = w_1 * x_1 + w_2 * x_1 + ... + w_n * x_1 \n",
        "  # d = torch.sqrt(torch.sum(torch.square(x - x[:, None]), dim=2)) #pdist squareform\n",
        "  # return torch.sum(torch.square(torch.sum(w*d, dim=0))) + 0.1*torch.square(torch.square(torch.norm(w)-1))\n",
        "  loss = torch.mean(torch.abs(nn(input))) + 0.1*(torch.norm(eikonal(nn, distribution)) -1)**2\n",
        "  return loss"
      ],
      "execution_count": 10,
      "outputs": []
    },
    {
      "cell_type": "code",
      "metadata": {
        "id": "hp95q_adMy9n",
        "colab_type": "code",
        "colab": {}
      },
      "source": [
        "# loss = irg_loss(my_nn, dataset, dist)"
      ],
      "execution_count": 11,
      "outputs": []
    },
    {
      "cell_type": "code",
      "metadata": {
        "id": "A-40ioPWb9aY",
        "colab_type": "code",
        "colab": {
          "base_uri": "https://localhost:8080/",
          "height": 34
        },
        "outputId": "a28fba16-2c2a-4a93-c1c7-65976a72db47"
      },
      "source": [
        "my_nn = IGRPerceptron()\n",
        "# if not next(my_nn.parameters()).is_cuda:\n",
        "my_nn = my_nn.to(device)\n",
        "# next(my_nn.parameters()).to(device)\n",
        "optimizer = torch.optim.Adam(my_nn.parameters())\n",
        "\n",
        "for i in range(5000): \n",
        "  my_nn(dataset)\n",
        "  loss = irg_loss(my_nn, dataset, dist)\n",
        "  optimizer.zero_grad()\n",
        "  loss.backward()\n",
        "  optimizer.step()\n",
        "\n",
        "print(loss)\n",
        "# print(result)"
      ],
      "execution_count": 12,
      "outputs": [
        {
          "output_type": "stream",
          "text": [
            "tensor(3.6093, device='cuda:0', grad_fn=<AddBackward0>)\n"
          ],
          "name": "stdout"
        }
      ]
    },
    {
      "cell_type": "code",
      "metadata": {
        "id": "0fcrA0bd9SRd",
        "colab_type": "code",
        "colab": {}
      },
      "source": [
        "def sampling(nn, xx, yy):\n",
        "  # dimg = xx.shape\n",
        "  # z = torch.zeros(dimg)\n",
        "  z = torch.empty((0,1))\n",
        "  print(z.shape)\n",
        "  # g = np.concatenate((xx, yy), axis=1)\n",
        "  # print(xx.shape)\n",
        "  # t = w[None, 0] * xx\n",
        "  # print(t)\n",
        "  tt = torch.stack((xx, yy), axis=2)\n",
        "  tt = torch.reshape(tt, (2500,2))\n",
        "  # print(tt)\n",
        "  # print(tt.shape)\n",
        "  # print(tt)\n",
        "  # print(tt)\n",
        "  # for k in range(int(dimw[0])):\n",
        "  #   z += w[k] * np.sqrt((xx - x[k,0])**2 + (yy - x[k,1])**2)\n",
        "    # z += np.sqrt(np.square(w[i] * (xx-dataset) + np.square(w[i] * yy))\n",
        "    # z += np.square(w[i,0] * (xx-dataset.numpy()[i,0]) + w[i,1]*(yy-dataset.numpy()[i,1]))\n",
        "  # z = np.square(w[:,0]*xx[:] + w[:,1]*yy[:])\n",
        "  # z = np.sum(np.sum(np.square(w*g[:, None]), axis=1), axis=1)\n",
        "  # print(t.shape)\n",
        "\n",
        "  # i = 0\n",
        "  # while True:\n",
        "  #   if (i+200>=len(tt)):\n",
        "  #     out = nn(tt[i:len(tt), :])\n",
        "  #     z = torch.cat((z,out))\n",
        "  #     break\n",
        "\n",
        "  #   out = nn(tt[i:i+200, :])\n",
        "  #   z = torch.cat((z,out))\n",
        "  #   i = i+200\n",
        "\n",
        "  z = nn(tt)\n",
        "  # print(z)\n",
        "  # print(z.shape)\n",
        "  print(torch.reshape(z, (50,50)))\n",
        "\n",
        "  return torch.reshape(z, (50,50))"
      ],
      "execution_count": 13,
      "outputs": []
    },
    {
      "cell_type": "code",
      "metadata": {
        "id": "dhqrdTyc64nx",
        "colab_type": "code",
        "colab": {
          "base_uri": "https://localhost:8080/",
          "height": 175
        },
        "outputId": "a72448c2-c541-4c16-c22d-121889ec2c1b"
      },
      "source": [
        "# xx,yy = Rbf.grid(dataset[:,0].numpy(), dataset[:,1].numpy())\n",
        "# z = sampling(result.detach().numpy(), xx ,yy)\n",
        "# z = sampling(dataset.numpy(), result.detach().numpy(), xx, yy)\n",
        "z = sampling(my_nn, dist_x, dist_y)"
      ],
      "execution_count": 14,
      "outputs": [
        {
          "output_type": "stream",
          "text": [
            "torch.Size([0, 1])\n",
            "tensor([[-0.0308, -0.0308, -0.0308,  ..., -0.0308, -0.0308, -0.0308],\n",
            "        [-0.0308, -0.0308, -0.0308,  ..., -0.0308, -0.0308, -0.0308],\n",
            "        [-0.0308, -0.0308, -0.0308,  ..., -0.0308, -0.0308, -0.0308],\n",
            "        ...,\n",
            "        [-0.0308, -0.0308, -0.0308,  ..., -0.0308, -0.0308, -0.0308],\n",
            "        [-0.0308, -0.0308, -0.0308,  ..., -0.0308, -0.0308, -0.0308],\n",
            "        [-0.0308, -0.0308, -0.0308,  ..., -0.0308, -0.0308, -0.0308]],\n",
            "       device='cuda:0', grad_fn=<ViewBackward>)\n"
          ],
          "name": "stdout"
        }
      ]
    },
    {
      "cell_type": "code",
      "metadata": {
        "id": "I-JqpEFj9pd2",
        "colab_type": "code",
        "colab": {
          "base_uri": "https://localhost:8080/",
          "height": 818
        },
        "outputId": "4fd5ac89-a0f9-4f3b-fc4a-f21c3793eee1"
      },
      "source": [
        "Rbf.visualize2(dataset.detach().cpu().numpy(), normal_vectors.detach().cpu().numpy(), dist_x.detach().cpu().numpy(), dist_y.detach().cpu().numpy(), z.detach().cpu().numpy(), scatter=True, vecfield=False, surface=True, offsurface=False, filled_contour=True)"
      ],
      "execution_count": 15,
      "outputs": [
        {
          "output_type": "display_data",
          "data": {
            "image/png": "[encoded data removed]",
            "text/plain": [
              "<Figure size 432x288 with 1 Axes>"
            ]
          },
          "metadata": {
            "tags": [],
            "needs_background": "light"
          }
        },
        {
          "output_type": "stream",
          "text": [
            "/content/drive/My Drive/GraduationThesis/gitrepo/GraduationThesis/modules/Rbf.py:149: UserWarning: No contour levels were found within the data range.\n",
            "  h_object = plt.contour(xx,yy, z, levels=[0.0], colors='c')\n"
          ],
          "name": "stderr"
        },
        {
          "output_type": "display_data",
          "data": {
            "image/png": "[encoded data removed]",
            "text/plain": [
              "<Figure size 432x288 with 1 Axes>"
            ]
          },
          "metadata": {
            "tags": [],
            "needs_background": "light"
          }
        },
        {
          "output_type": "display_data",
          "data": {
            "image/png": "[encoded data removed]",
            "text/plain": [
              "<Figure size 432x288 with 1 Axes>"
            ]
          },
          "metadata": {
            "tags": [],
            "needs_background": "light"
          }
        }
      ]
    },
    {
      "cell_type": "code",
      "metadata": {
        "id": "xiliLjt8UW_A",
        "colab_type": "code",
        "colab": {}
      },
      "source": [
        "# x = torch.tensor([[5, 3], [2, 1], [3,2]], dtype=torch.float)\n",
        "# y = torch.tensor([[1,1], [1,2], [3,2]], dtype=torch.float)\n",
        "\n",
        "# x = x.numpy()\n",
        "# y = y.numpy()\n",
        "\n",
        "# t = np.concatenate((x,y), axis = 1)\n",
        "\n",
        "# # t = torch.matmul(torch.transpose(x, 0, 1),y)\n",
        "# # t = torch.matmul(x[:, :], y[:,:)])\n",
        "# # t = x * y [:, None]\n",
        "# # t = torch.cat((x,y), dim=1)\n",
        "# # t = t.numpy()\n",
        "# # t = np.sum(t, axis=1)\n",
        "# # t = np.sum(t, axis=1)\n",
        "\n",
        "# print(t)"
      ],
      "execution_count": 16,
      "outputs": []
    },
    {
      "cell_type": "code",
      "metadata": {
        "id": "_pQWfn1W5pld",
        "colab_type": "code",
        "colab": {}
      },
      "source": [
        "# x = torch.tensor([[5, 3], [2, 1], [3,2]], dtype=torch.float)\n",
        "# y = torch.tensor([[1,1], [1,2], [2,3]], dtype=torch.float)\n",
        "# w = torch.tensor([[5], [2], [1]], dtype=torch.float)\n",
        "\n",
        "# # t = np.concatenate((x,y), axis = 1)\n",
        "\n",
        "# # t = torch.matmul(torch.transpose(x, 0, 1),y)\n",
        "# # t = torch.matmul(x[:, :], y[:,:)])\n",
        "# t = x - y [:, None]\n",
        "# # t = torch.cat((x,y), dim=1)\n",
        "# # t = t.numpy()\n",
        "# t = torch.sum(t, dim=2)\n",
        "# # t = w*t\n",
        "# # t = torch.sum(t, dim=0)\n",
        "\n",
        "# print(t)"
      ],
      "execution_count": 17,
      "outputs": []
    },
    {
      "cell_type": "code",
      "metadata": {
        "id": "NpbdRa4zJ4G6",
        "colab_type": "code",
        "colab": {}
      },
      "source": [
        "# x = torch.tensor([[5], [2], [1], [3],[2]], dtype=torch.float)\n",
        "# y = torch.tensor([1, 2, 3, 4], dtype=torch.float)\n",
        "\n",
        "# # t = x[None, :] * y[:, None]\n",
        "# t = x * y\n",
        "# t = torch.sum(t, dim=0)\n",
        "# print(t)"
      ],
      "execution_count": 18,
      "outputs": []
    }
  ]
}