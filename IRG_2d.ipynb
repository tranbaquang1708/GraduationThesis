{
  "nbformat": 4,
  "nbformat_minor": 0,
  "metadata": {
    "colab": {
      "name": "IRG_2d.ipynb",
      "provenance": [],
      "collapsed_sections": [],
      "mount_file_id": "1n0GVPFoSSjZBHdcTEfnu3bfHkH7sX-mw",
      "authorship_tag": "ABX9TyNGIEmreAJpNRmaS/wSLW6H",
      "include_colab_link": true
    },
    "kernelspec": {
      "name": "python3",
      "display_name": "Python 3"
    }
  },
  "cells": [
    {
      "cell_type": "markdown",
      "metadata": {
        "id": "view-in-github",
        "colab_type": "text"
      },
      "source": [
        "<a href=\"https://colab.research.google.com/github/tranbaquang1708/GraduationThesis/blob/irg_prototype/IRG_2d.ipynb\" target=\"_parent\"><img src=\"https://colab.research.google.com/assets/colab-badge.svg\" alt=\"Open In Colab\"/></a>"
      ]
    },
    {
      "cell_type": "code",
      "metadata": {
        "id": "TuZ3HxJ5aJIG",
        "colab_type": "code",
        "colab": {}
      },
      "source": [
        "import sys\n",
        "import os\n",
        "mp = os.path.abspath(os.path.join('/content/drive/My Drive/GraduationThesis/gitrepo/GraduationThesis/'))\n",
        "sys.path.append(mp)"
      ],
      "execution_count": 1,
      "outputs": []
    },
    {
      "cell_type": "code",
      "metadata": {
        "id": "WT4WVYFRXfAi",
        "colab_type": "code",
        "colab": {}
      },
      "source": [
        "import torch\n",
        "import torch.nn as nn\n",
        "import torch.nn.functional as F\n",
        "import numpy as np\n",
        "from modules import Rbf"
      ],
      "execution_count": 2,
      "outputs": []
    },
    {
      "cell_type": "code",
      "metadata": {
        "id": "xi-6vYT1x_PM",
        "colab_type": "code",
        "colab": {}
      },
      "source": [
        "def read_txt2(filename):\n",
        "  onsurface_points = np.zeros((0,2))\n",
        "  shifted_points = np.zeros((0,2)) # onsurface_points left shifted by 1\n",
        "  first_point = np.zeros((1,2))\n",
        "  last_point = np.zeros((1,2))\n",
        "\n",
        "  with open(filename, 'r') as f:\n",
        "    for c in range(int(f.readline())):\n",
        "      num_of_verticles = int(f.readline())\n",
        "\n",
        "      first_point[0] = np.loadtxt(f, max_rows=1)\n",
        "      middle_points = np.loadtxt(f, max_rows=num_of_verticles-2)\n",
        "      last_point[0] = np.loadtxt(f, max_rows=1)\n",
        "\n",
        "      # Onsuface points order: first_point,middle_points,last_point\n",
        "      # Shifted points order:  middle_points,last_point,first_point\n",
        "      onsurface_points = np.concatenate((onsurface_points, first_point))    # Onsurface: first_point\n",
        "      onsurface_points = np.concatenate((onsurface_points, middle_points))  # Onsurface: middle_points\n",
        "      shifted_points = np.concatenate((shifted_points, middle_points))      # Shifted: middle_points\n",
        "      # Remove the last point if it is the same as the first point\n",
        "      if np.not_equal(last_point,first_point).any():\n",
        "        onsurface_points = np.concatenate((onsurface_points,last_point))    # Onsurface: last_point\n",
        "        shifted_points = np.concatenate((shifted_points,last_point))        # Shifted: last_point\n",
        "      shifted_points = np.concatenate((shifted_points,first_point))         # Shifted: first_point\n",
        "\n",
        "  # Vector of 2 consecutive points\n",
        "  vectors = shifted_points - onsurface_points\n",
        "  # Getting normal vectors\n",
        "  norm = np.linalg.norm(vectors, axis=1)\n",
        "  normal_vectors = np.ones_like(vectors)\n",
        "\n",
        "  normal_vectors[:,0] = np.divide(-vectors[:,1],norm)\n",
        "  normal_vectors[:,1] = np.divide(vectors[:,0],norm)\n",
        "\n",
        "  return torch.from_numpy(onsurface_points).float(), torch.from_numpy(normal_vectors).float()"
      ],
      "execution_count": 4,
      "outputs": []
    },
    {
      "cell_type": "code",
      "metadata": {
        "id": "ZMvPHi-oaN_x",
        "colab_type": "code",
        "colab": {}
      },
      "source": [
        "# Off surface points\n",
        "filename = mp + '/dataset/2d/riderr.vert'\n",
        "dataset, normal_vectors = read_txt2(filename)\n",
        "# print(dataset)"
      ],
      "execution_count": 5,
      "outputs": []
    },
    {
      "cell_type": "code",
      "metadata": {
        "id": "1OsF4FK1YzS3",
        "colab_type": "code",
        "colab": {}
      },
      "source": [
        "class IGRPerceptron(nn.Module):\n",
        "  def __init__(self):\n",
        "    super(IGRPerceptron, self).__init__()\n",
        "    self.fc1 = nn.Linear(2, 512)\n",
        "    self.fc2 = nn.Linear(512, 512)\n",
        "    self.fc3 = nn.Linear(512, 1)\n",
        "    self.activation = nn.Softplus()\n",
        "\n",
        "  def forward(self, x):\n",
        "    out = self.fc1(x)\n",
        "    # out = torch.flatten(out, 1)\n",
        "    out = self.activation(out)\n",
        "    out = self.fc2(out)\n",
        "    out = self.activation(out)\n",
        "    out = self.fc3(out)\n",
        "    out = self.activation(out)\n",
        "    return out"
      ],
      "execution_count": 187,
      "outputs": []
    },
    {
      "cell_type": "code",
      "metadata": {
        "id": "Hr7IcArNX9Bw",
        "colab_type": "code",
        "colab": {}
      },
      "source": [
        "# loss = \\sum_I (w^T*x_i)^2 + 0.1 * (||w||^2 - 1)^2\n",
        "def irg_loss(x, w):\n",
        "  # w^T*x_1 = w_x1 * x_1 + w_y1 * y_1 + w_x2 * x_1 + w_y2 * y_1 + ... + w_xn * x_1 + w_yn * y_1\n",
        "  # return torch.sum(torch.square(torch.sum(torch.sum(w*x[:,None], dim=1), dim=1))) + 0.1*torch.square(torch.square(torch.norm(w)-1))\n",
        "\n",
        "  # w^t * x_1 = w_1 * x_1 + w_2 * x_1 + ... + w_n * x_1 \n",
        "  d = torch.sqrt(torch.sum(torch.square(x - x[:, None]), dim=2)) #pdist squareform\n",
        "  return torch.sum(torch.square(torch.sum(w*d, dim=0))) + 0.1*torch.square(torch.square(torch.norm(w)-1))"
      ],
      "execution_count": 251,
      "outputs": []
    },
    {
      "cell_type": "code",
      "metadata": {
        "id": "A-40ioPWb9aY",
        "colab_type": "code",
        "colab": {
          "base_uri": "https://localhost:8080/",
          "height": 34
        },
        "outputId": "2db9c45a-abb3-4d8f-fb4c-721ce1d6b139"
      },
      "source": [
        "my_nn = IGRPerceptron()\n",
        "optimizer = torch.optim.Adam(my_nn.parameters())\n",
        "\n",
        "for i in range(5000): \n",
        "  result = my_nn(dataset)\n",
        "  loss = irg_loss(dataset, result)\n",
        "  optimizer.zero_grad()\n",
        "  loss.backward()\n",
        "  optimizer.step()\n",
        "\n",
        "print(loss)\n",
        "# print(result)"
      ],
      "execution_count": 259,
      "outputs": [
        {
          "output_type": "stream",
          "text": [
            "tensor(0.1000, grad_fn=<AddBackward0>)\n"
          ],
          "name": "stdout"
        }
      ]
    },
    {
      "cell_type": "code",
      "metadata": {
        "id": "0fcrA0bd9SRd",
        "colab_type": "code",
        "colab": {}
      },
      "source": [
        "def sampling(x, w, xx, yy):\n",
        "  dimw = w.shape\n",
        "  dimg = xx.shape\n",
        "  z = np.zeros(dimg)\n",
        "\n",
        "  # g = np.concatenate((xx, yy), axis=1)\n",
        "  # print(xx.shape)\n",
        "  # t = w[None, 0] * xx\n",
        "  # print(t)\n",
        "  for k in range(int(dimw[0])):\n",
        "    z += w[k] * np.sqrt((xx - x[k,0])**2 + (yy - x[k,1])**2)\n",
        "    # z += np.sqrt(np.square(w[i] * (xx-dataset) + np.square(w[i] * yy))\n",
        "    # z += np.square(w[i,0] * (xx-dataset.numpy()[i,0]) + w[i,1]*(yy-dataset.numpy()[i,1]))\n",
        "  # z = np.square(w[:,0]*xx[:] + w[:,1]*yy[:])\n",
        "  # z = np.sum(np.sum(np.square(w*g[:, None]), axis=1), axis=1)\n",
        "  # print(t.shape)\n",
        "  return np.square(z)"
      ],
      "execution_count": 260,
      "outputs": []
    },
    {
      "cell_type": "code",
      "metadata": {
        "id": "dhqrdTyc64nx",
        "colab_type": "code",
        "colab": {
          "base_uri": "https://localhost:8080/",
          "height": 246
        },
        "outputId": "bc715e01-ea89-4a8e-82ef-d02475692246"
      },
      "source": [
        "xx,yy = Rbf.grid(dataset[:,0].numpy(), dataset[:,1].numpy())\n",
        "# z = sampling(result.detach().numpy(), xx ,yy)\n",
        "z = sampling(dataset.numpy(), result.detach().numpy(), xx, yy)\n",
        "print(z)"
      ],
      "execution_count": 261,
      "outputs": [
        {
          "output_type": "stream",
          "text": [
            "[[3.59951251e-15 3.45890287e-15 3.32708009e-15 ... 6.40315833e-15\n",
            "  6.67564937e-15 6.95708249e-15]\n",
            " [3.39099040e-15 3.25049274e-15 3.11879039e-15 ... 6.19460965e-15\n",
            "  6.46717418e-15 6.74868017e-15]\n",
            " [3.19237499e-15 3.05199151e-15 2.92041366e-15 ... 5.99615883e-15\n",
            "  6.26880313e-15 6.55038744e-15]\n",
            " ...\n",
            " [4.72136805e-15 4.58219789e-15 4.45198916e-15 ... 7.63194176e-15\n",
            "  7.90391520e-15 8.18477208e-15]\n",
            " [4.98947882e-15 4.85023915e-15 4.71994610e-15 ... 7.89997828e-15\n",
            "  8.17198893e-15 8.45287760e-15]\n",
            " [5.26755686e-15 5.12824603e-15 4.99786874e-15 ... 8.17798327e-15\n",
            "  8.45003373e-15 8.73095706e-15]]\n"
          ],
          "name": "stdout"
        }
      ]
    },
    {
      "cell_type": "code",
      "metadata": {
        "id": "I-JqpEFj9pd2",
        "colab_type": "code",
        "colab": {
          "base_uri": "https://localhost:8080/",
          "height": 818
        },
        "outputId": "8ec86541-d4a6-4b94-f7da-0b5572204dbd"
      },
      "source": [
        "Rbf.visualize2(dataset, normal_vectors, xx, yy, z, scatter=True, vecfield=False, surface=True, offsurface=False, filled_contour=True)"
      ],
      "execution_count": 262,
      "outputs": [
        {
          "output_type": "display_data",
          "data": {
            "image/png": "[encoded data removed]",
            "text/plain": [
              "<Figure size 432x288 with 1 Axes>"
            ]
          },
          "metadata": {
            "tags": [],
            "needs_background": "light"
          }
        },
        {
          "output_type": "stream",
          "text": [
            "/content/drive/My Drive/GraduationThesis/gitrepo/GraduationThesis/modules/Rbf.py:149: UserWarning: No contour levels were found within the data range.\n",
            "  h_object = plt.contour(xx,yy, z, levels=[0.0], colors='c')\n"
          ],
          "name": "stderr"
        },
        {
          "output_type": "display_data",
          "data": {
            "image/png": "[encoded data removed]",
            "text/plain": [
              "<Figure size 432x288 with 1 Axes>"
            ]
          },
          "metadata": {
            "tags": [],
            "needs_background": "light"
          }
        },
        {
          "output_type": "display_data",
          "data": {
            "image/png": "[encoded data removed]",
            "text/plain": [
              "<Figure size 432x288 with 1 Axes>"
            ]
          },
          "metadata": {
            "tags": [],
            "needs_background": "light"
          }
        }
      ]
    },
    {
      "cell_type": "code",
      "metadata": {
        "id": "xiliLjt8UW_A",
        "colab_type": "code",
        "colab": {}
      },
      "source": [
        "# x = torch.tensor([[5, 3], [2, 1], [3,2]], dtype=torch.float)\n",
        "# y = torch.tensor([[1,1], [1,2], [3,2]], dtype=torch.float)\n",
        "\n",
        "# x = x.numpy()\n",
        "# y = y.numpy()\n",
        "\n",
        "# t = np.concatenate((x,y), axis = 1)\n",
        "\n",
        "# # t = torch.matmul(torch.transpose(x, 0, 1),y)\n",
        "# # t = torch.matmul(x[:, :], y[:,:)])\n",
        "# # t = x * y [:, None]\n",
        "# # t = torch.cat((x,y), dim=1)\n",
        "# # t = t.numpy()\n",
        "# # t = np.sum(t, axis=1)\n",
        "# # t = np.sum(t, axis=1)\n",
        "\n",
        "# print(t)"
      ],
      "execution_count": 263,
      "outputs": []
    },
    {
      "cell_type": "code",
      "metadata": {
        "id": "_pQWfn1W5pld",
        "colab_type": "code",
        "colab": {
          "base_uri": "https://localhost:8080/",
          "height": 34
        },
        "outputId": "54d2761a-0ec9-400a-f37e-cb6e0d414010"
      },
      "source": [
        "x = torch.tensor([[5, 3], [2, 1], [3,2]], dtype=torch.float)\n",
        "y = torch.tensor([[1,1], [1,2], [2,3]], dtype=torch.float)\n",
        "w = torch.tensor([[5], [2], [1]], dtype=torch.float)\n",
        "\n",
        "# t = np.concatenate((x,y), axis = 1)\n",
        "\n",
        "# t = torch.matmul(torch.transpose(x, 0, 1),y)\n",
        "# t = torch.matmul(x[:, :], y[:,:)])\n",
        "t = x - y [:, None]\n",
        "# t = torch.cat((x,y), dim=1)\n",
        "# t = t.numpy()\n",
        "t = torch.sum(t, dim=2)\n",
        "t = w*t\n",
        "t = torch.sum(t, dim=0)\n",
        "\n",
        "print(t)"
      ],
      "execution_count": 264,
      "outputs": [
        {
          "output_type": "stream",
          "text": [
            "tensor([43.,  3., 19.])\n"
          ],
          "name": "stdout"
        }
      ]
    },
    {
      "cell_type": "code",
      "metadata": {
        "id": "NpbdRa4zJ4G6",
        "colab_type": "code",
        "colab": {
          "base_uri": "https://localhost:8080/",
          "height": 34
        },
        "outputId": "070bc668-1633-4897-daeb-f6932f326089"
      },
      "source": [
        "x = torch.tensor([[5], [2], [1], [3],[2]], dtype=torch.float)\n",
        "y = torch.tensor([1, 2, 3, 4], dtype=torch.float)\n",
        "\n",
        "# t = x[None, :] * y[:, None]\n",
        "t = x * y\n",
        "t = torch.sum(t, dim=0)\n",
        "print(t)"
      ],
      "execution_count": 265,
      "outputs": [
        {
          "output_type": "stream",
          "text": [
            "tensor([13., 26., 39., 52.])\n"
          ],
          "name": "stdout"
        }
      ]
    }
  ]
}