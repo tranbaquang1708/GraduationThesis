{
  "nbformat": 4,
  "nbformat_minor": 0,
  "metadata": {
    "colab": {
      "name": "IGR_Circle.ipynb",
      "provenance": [],
      "collapsed_sections": [],
      "mount_file_id": "1Y7U4D-YGhSpODdx5nFxLpnR2NeIU7rMa",
      "authorship_tag": "ABX9TyOorPeJzuIDijaOKJXVD2HS",
      "include_colab_link": true
    },
    "kernelspec": {
      "name": "python3",
      "display_name": "Python 3"
    },
    "accelerator": "GPU"
  },
  "cells": [
    {
      "cell_type": "markdown",
      "metadata": {
        "id": "view-in-github",
        "colab_type": "text"
      },
      "source": [
        "<a href=\"https://colab.research.google.com/github/tranbaquang1708/GraduationThesis/blob/develop/IGR_Circle.ipynb\" target=\"_parent\"><img src=\"https://colab.research.google.com/assets/colab-badge.svg\" alt=\"Open In Colab\"/></a>"
      ]
    },
    {
      "cell_type": "code",
      "metadata": {
        "id": "7647fEmOrcrU",
        "colab_type": "code",
        "colab": {}
      },
      "source": [
        "import sys\n",
        "import os\n",
        "mp = os.path.abspath(os.path.join('/content/drive/My Drive/GraduationThesis/gitrepo/GraduationThesis/'))\n",
        "sys.path.append(mp)"
      ],
      "execution_count": 1,
      "outputs": []
    },
    {
      "cell_type": "code",
      "metadata": {
        "id": "1S8zhkDurd3H",
        "colab_type": "code",
        "colab": {}
      },
      "source": [
        "import torch\n",
        "from modules import IGR, Visualization, Operation"
      ],
      "execution_count": 2,
      "outputs": []
    },
    {
      "cell_type": "code",
      "metadata": {
        "id": "WetCrIzerfF5",
        "colab_type": "code",
        "colab": {}
      },
      "source": [
        "device = torch.device('cuda' if torch.cuda.is_available() else 'cpu')"
      ],
      "execution_count": 3,
      "outputs": []
    },
    {
      "cell_type": "code",
      "metadata": {
        "id": "4ISD6cAjsOuq",
        "colab_type": "code",
        "colab": {}
      },
      "source": [
        "dataset, normal_vectors = Operation.circle_dataset(device)"
      ],
      "execution_count": 4,
      "outputs": []
    },
    {
      "cell_type": "code",
      "metadata": {
        "id": "xJXgMz8CsX6_",
        "colab_type": "code",
        "colab": {}
      },
      "source": [
        "traineddata_path = mp + '/models/circle_noconstrain.traineddata'\n",
        "model = IGR.load_model(traineddata_path, device)"
      ],
      "execution_count": 5,
      "outputs": []
    },
    {
      "cell_type": "code",
      "metadata": {
        "id": "8yGQqI5Mshzx",
        "colab_type": "code",
        "colab": {
          "base_uri": "https://localhost:8080/",
          "height": 1000
        },
        "outputId": "c4d1a396-682b-411a-be24-3f3aff4923df"
      },
      "source": [
        "loss_function = IGR.LossFunction()\n",
        "model = IGR.train(dataset, normal_vectors, 30000, 100, device, loss_function, model=model)"
      ],
      "execution_count": 6,
      "outputs": [
        {
          "output_type": "stream",
          "text": [
            "Step 500:\n",
            "tensor(1.0156, device='cuda:0', grad_fn=<AddBackward0>)\n",
            "Step 1000:\n",
            "tensor(1.0040, device='cuda:0', grad_fn=<AddBackward0>)\n",
            "Step 1500:\n",
            "tensor(1.0135, device='cuda:0', grad_fn=<AddBackward0>)\n",
            "Step 2000:\n",
            "tensor(1.0024, device='cuda:0', grad_fn=<AddBackward0>)\n",
            "Step 2500:\n",
            "tensor(1.0071, device='cuda:0', grad_fn=<AddBackward0>)\n",
            "Step 3000:\n",
            "tensor(1.0007, device='cuda:0', grad_fn=<AddBackward0>)\n",
            "Step 3500:\n",
            "tensor(1.0111, device='cuda:0', grad_fn=<AddBackward0>)\n",
            "Step 4000:\n",
            "tensor(1.0035, device='cuda:0', grad_fn=<AddBackward0>)\n",
            "Step 4500:\n",
            "tensor(1.0010, device='cuda:0', grad_fn=<AddBackward0>)\n",
            "Step 5000:\n",
            "tensor(1.0075, device='cuda:0', grad_fn=<AddBackward0>)\n",
            "Step 5500:\n",
            "tensor(1.0063, device='cuda:0', grad_fn=<AddBackward0>)\n",
            "Step 6000:\n",
            "tensor(1.0012, device='cuda:0', grad_fn=<AddBackward0>)\n",
            "Step 6500:\n",
            "tensor(1.0029, device='cuda:0', grad_fn=<AddBackward0>)\n",
            "Step 7000:\n",
            "tensor(1.0025, device='cuda:0', grad_fn=<AddBackward0>)\n",
            "Step 7500:\n",
            "tensor(1.0003, device='cuda:0', grad_fn=<AddBackward0>)\n",
            "Step 8000:\n",
            "tensor(1.0016, device='cuda:0', grad_fn=<AddBackward0>)\n",
            "Step 8500:\n",
            "tensor(1.0014, device='cuda:0', grad_fn=<AddBackward0>)\n",
            "Step 9000:\n",
            "tensor(1.0011, device='cuda:0', grad_fn=<AddBackward0>)\n",
            "Step 9500:\n",
            "tensor(1.0008, device='cuda:0', grad_fn=<AddBackward0>)\n",
            "Step 10000:\n",
            "tensor(1.0004, device='cuda:0', grad_fn=<AddBackward0>)\n",
            "Step 10500:\n",
            "tensor(1.0002, device='cuda:0', grad_fn=<AddBackward0>)\n",
            "Step 11000:\n",
            "tensor(1.0027, device='cuda:0', grad_fn=<AddBackward0>)\n",
            "Step 11500:\n",
            "tensor(1.0016, device='cuda:0', grad_fn=<AddBackward0>)\n",
            "Step 12000:\n",
            "tensor(1.0009, device='cuda:0', grad_fn=<AddBackward0>)\n",
            "Step 12500:\n",
            "tensor(1.0022, device='cuda:0', grad_fn=<AddBackward0>)\n",
            "Step 13000:\n",
            "tensor(1.0059, device='cuda:0', grad_fn=<AddBackward0>)\n",
            "Step 13500:\n",
            "tensor(1.0046, device='cuda:0', grad_fn=<AddBackward0>)\n",
            "Step 14000:\n",
            "tensor(1.0005, device='cuda:0', grad_fn=<AddBackward0>)\n",
            "Step 14500:\n",
            "tensor(1.0060, device='cuda:0', grad_fn=<AddBackward0>)\n",
            "Step 15000:\n",
            "tensor(1.0044, device='cuda:0', grad_fn=<AddBackward0>)\n",
            "Step 15500:\n",
            "tensor(1.0006, device='cuda:0', grad_fn=<AddBackward0>)\n",
            "Step 16000:\n",
            "tensor(1.0062, device='cuda:0', grad_fn=<AddBackward0>)\n",
            "Step 16500:\n",
            "tensor(1.0043, device='cuda:0', grad_fn=<AddBackward0>)\n",
            "Step 17000:\n",
            "tensor(1.0007, device='cuda:0', grad_fn=<AddBackward0>)\n",
            "Step 17500:\n",
            "tensor(1.0062, device='cuda:0', grad_fn=<AddBackward0>)\n",
            "Step 18000:\n",
            "tensor(1.0042, device='cuda:0', grad_fn=<AddBackward0>)\n",
            "Step 18500:\n",
            "tensor(1.0007, device='cuda:0', grad_fn=<AddBackward0>)\n",
            "Step 19000:\n",
            "tensor(1.0062, device='cuda:0', grad_fn=<AddBackward0>)\n",
            "Step 19500:\n",
            "tensor(1.0042, device='cuda:0', grad_fn=<AddBackward0>)\n",
            "Step 20000:\n",
            "tensor(1.0008, device='cuda:0', grad_fn=<AddBackward0>)\n",
            "Step 20500:\n",
            "tensor(1.0063, device='cuda:0', grad_fn=<AddBackward0>)\n",
            "Step 21000:\n",
            "tensor(1.0042, device='cuda:0', grad_fn=<AddBackward0>)\n",
            "Step 21500:\n",
            "tensor(1.0008, device='cuda:0', grad_fn=<AddBackward0>)\n",
            "Step 22000:\n",
            "tensor(1.0063, device='cuda:0', grad_fn=<AddBackward0>)\n",
            "Step 22500:\n",
            "tensor(1.0042, device='cuda:0', grad_fn=<AddBackward0>)\n",
            "Step 23000:\n",
            "tensor(1.0008, device='cuda:0', grad_fn=<AddBackward0>)\n",
            "Step 23500:\n",
            "tensor(1.0063, device='cuda:0', grad_fn=<AddBackward0>)\n",
            "Step 24000:\n",
            "tensor(1.0041, device='cuda:0', grad_fn=<AddBackward0>)\n",
            "Step 24500:\n",
            "tensor(1.0008, device='cuda:0', grad_fn=<AddBackward0>)\n",
            "Step 25000:\n",
            "tensor(1.0063, device='cuda:0', grad_fn=<AddBackward0>)\n",
            "Step 25500:\n",
            "tensor(1.0041, device='cuda:0', grad_fn=<AddBackward0>)\n",
            "Step 26000:\n",
            "tensor(1.0008, device='cuda:0', grad_fn=<AddBackward0>)\n",
            "Step 26500:\n",
            "tensor(1.0063, device='cuda:0', grad_fn=<AddBackward0>)\n",
            "Step 27000:\n",
            "tensor(1.0041, device='cuda:0', grad_fn=<AddBackward0>)\n",
            "Step 27500:\n",
            "tensor(1.0008, device='cuda:0', grad_fn=<AddBackward0>)\n",
            "Step 28000:\n",
            "tensor(1.0063, device='cuda:0', grad_fn=<AddBackward0>)\n",
            "Step 28500:\n",
            "tensor(1.0041, device='cuda:0', grad_fn=<AddBackward0>)\n",
            "Step 29000:\n",
            "tensor(1.0008, device='cuda:0', grad_fn=<AddBackward0>)\n",
            "Step 29500:\n",
            "tensor(1.0063, device='cuda:0', grad_fn=<AddBackward0>)\n",
            "Step 30000:\n",
            "tensor(1.0041, device='cuda:0', grad_fn=<AddBackward0>)\n"
          ],
          "name": "stdout"
        }
      ]
    },
    {
      "cell_type": "code",
      "metadata": {
        "id": "otZC_JGo8EOQ",
        "colab_type": "code",
        "colab": {}
      },
      "source": [
        "IGR.save_model(traineddata_path, model)"
      ],
      "execution_count": 7,
      "outputs": []
    },
    {
      "cell_type": "code",
      "metadata": {
        "id": "pBAlVgbOtvtm",
        "colab_type": "code",
        "colab": {}
      },
      "source": [
        "xx, yy = Visualization.grid_from_torch(dataset[:,0], dataset[:,1], device)"
      ],
      "execution_count": 8,
      "outputs": []
    },
    {
      "cell_type": "code",
      "metadata": {
        "id": "Aid31bVrt2CJ",
        "colab_type": "code",
        "colab": {
          "base_uri": "https://localhost:8080/",
          "height": 158
        },
        "outputId": "7978d097-359a-4aba-8c49-53f2c5e30174"
      },
      "source": [
        "z = Visualization.nn_sampling(model, xx, yy)"
      ],
      "execution_count": 9,
      "outputs": [
        {
          "output_type": "stream",
          "text": [
            "tensor([[0.0049, 0.0049, 0.0049,  ..., 0.0049, 0.0049, 0.0049],\n",
            "        [0.0049, 0.0049, 0.0049,  ..., 0.0049, 0.0049, 0.0049],\n",
            "        [0.0049, 0.0049, 0.0049,  ..., 0.0049, 0.0049, 0.0049],\n",
            "        ...,\n",
            "        [0.0049, 0.0049, 0.0049,  ..., 0.0049, 0.0049, 0.0049],\n",
            "        [0.0049, 0.0049, 0.0049,  ..., 0.0049, 0.0049, 0.0049],\n",
            "        [0.0049, 0.0049, 0.0049,  ..., 0.0049, 0.0049, 0.0049]],\n",
            "       device='cuda:0', grad_fn=<ViewBackward>)\n"
          ],
          "name": "stdout"
        }
      ]
    },
    {
      "cell_type": "code",
      "metadata": {
        "id": "1b4UL_CMt780",
        "colab_type": "code",
        "colab": {
          "base_uri": "https://localhost:8080/",
          "height": 816
        },
        "outputId": "db97ecc6-d5c7-469c-f99a-b6828b2c3210"
      },
      "source": [
        "Visualization.visualize2(dataset.detach().cpu().numpy(), normal_vectors.detach().cpu().numpy(), xx.detach().cpu().numpy(), yy.detach().cpu().numpy(), z.detach().cpu().numpy(), scatter=True, vecfield=False, surface=True, offsurface=False, filled_contour=True)"
      ],
      "execution_count": 10,
      "outputs": [
        {
          "output_type": "display_data",
          "data": {
            "image/png": "[encoded data removed]",
            "text/plain": [
              "<Figure size 432x288 with 1 Axes>"
            ]
          },
          "metadata": {
            "tags": [],
            "needs_background": "light"
          }
        },
        {
          "output_type": "stream",
          "text": [
            "/content/drive/My Drive/GraduationThesis/gitrepo/GraduationThesis/modules/Visualization.py:25: UserWarning: No contour levels were found within the data range.\n",
            "  h_object = plt.contour(xx,yy, z, levels=[0.0], colors='c')\n"
          ],
          "name": "stderr"
        },
        {
          "output_type": "display_data",
          "data": {
            "image/png": "[encoded data removed]",
            "text/plain": [
              "<Figure size 432x288 with 1 Axes>"
            ]
          },
          "metadata": {
            "tags": [],
            "needs_background": "light"
          }
        },
        {
          "output_type": "display_data",
          "data": {
            "image/png": "[encoded data removed]",
            "text/plain": [
              "<Figure size 432x288 with 1 Axes>"
            ]
          },
          "metadata": {
            "tags": [],
            "needs_background": "light"
          }
        }
      ]
    }
  ]
}